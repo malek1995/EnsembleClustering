{
 "cells": [
  {
   "cell_type": "code",
   "execution_count": null,
   "outputs": [],
   "source": [
    "import numpy as np\n",
    "import pandas as pd\n",
    "import seaborn as sns\n",
    "%matplotlib inline\n",
    "from sklearn.cluster import KMeans\n",
    "from sklearn.datasets import load_iris\n",
    "from sklearn.decomposition import PCA\n",
    "from pyckmeans import CKmeans\n",
    "from pyckmeans import MultiCKMeans\n",
    "import ClusterEnsembles as CE\n",
    "from sklearn.metrics import jaccard_score\n",
    "from sklearn.metrics import davies_bouldin_score\n",
    "from sklearn.metrics import silhouette_score\n",
    "from sklearn.metrics import normalized_mutual_info_score\n",
    "from sklearn.metrics import adjusted_rand_score\n",
    "from sklearn.metrics import fowlkes_mallows_score\n",
    "from sklearn.metrics import calinski_harabasz_score"
   ],
   "metadata": {
    "collapsed": false
   }
  },
  {
   "cell_type": "code",
   "execution_count": null,
   "outputs": [],
   "source": [
    "# load the iris data\n",
    "iris=load_iris()\n",
    "df=pd.DataFrame(data=iris.data, columns=['sepal length','sepal width','petal length','petal width'])\n",
    "df['target']=pd.Series(iris.target)\n",
    "def define_species(df, target_column):\n",
    "    species = [\"cluster_\" + str(val) for val in target_column]\n",
    "    df['Species'] = species\n",
    "define_species(df, np.array(df.target))"
   ],
   "metadata": {
    "collapsed": false
   }
  },
  {
   "cell_type": "code",
   "execution_count": null,
   "outputs": [],
   "source": [
    "#  transform the actual data and display it\n",
    "data = iris.data\n",
    "target = iris.target\n",
    "X_reduced = PCA(n_components=2).fit_transform(data)\n",
    "sns.scatterplot(x=X_reduced[:, 0], y=X_reduced[:, 1], hue=df['Species'])"
   ],
   "metadata": {
    "collapsed": false
   }
  },
  {
   "cell_type": "code",
   "execution_count": null,
   "outputs": [],
   "source": [
    "# KMeans from sklearn to cluster the iris data with k = [2, 3, 4, 5]\n",
    "KMeans_k2 = KMeans(n_clusters=2)\n",
    "k2_model = KMeans_k2.fit(iris.data)\n",
    "\n",
    "KMeans_k3 = KMeans(n_clusters=3)\n",
    "k3_model = KMeans_k3.fit(iris.data)\n",
    "\n",
    "KMeans_k4 = KMeans(n_clusters=4)\n",
    "k4_model = KMeans_k4.fit(iris.data)\n",
    "\n",
    "KMeans_k5 = KMeans(n_clusters=5)\n",
    "k5_model = KMeans_k5.fit(iris.data)\n"
   ],
   "metadata": {
    "collapsed": false
   }
  },
  {
   "cell_type": "code",
   "execution_count": null,
   "outputs": [],
   "source": [
    "# display the result of using KMeans with k = 3\n",
    "define_species(df, k3_model.labels_)\n",
    "sns.scatterplot(x=X_reduced[:, 0], y=X_reduced[:, 1], hue=df['Species'])"
   ],
   "metadata": {
    "collapsed": false
   }
  },
  {
   "cell_type": "code",
   "execution_count": null,
   "outputs": [],
   "source": [
    "#Compare the actual Data with the result of using KMeans with k = 3\n",
    "print(\"Jacard Score = \", jaccard_score(np.array(df['target']), k3_model.labels_, average='weighted'))\n",
    "print(\"DBI = \", davies_bouldin_score(X_reduced, k3_model.labels_))\n",
    "print(\"silhouette_score = \" , silhouette_score(X_reduced, k3_model.labels_))\n",
    "# to see the different with the actual data\n",
    "pd.crosstab(iris.target, k3_model.labels_)"
   ],
   "metadata": {
    "collapsed": false
   }
  },
  {
   "cell_type": "code",
   "execution_count": null,
   "outputs": [],
   "source": [
    "# Ensemble Clustering using CKmeans with a single k = 3\n",
    "ckm = CKmeans(k=3, n_rep=100)\n",
    "ckm.fit(iris.data)\n",
    "ckm_res = ckm.predict(iris.data)\n",
    "define_species(df, ckm_res.cl)\n",
    "sns.scatterplot(x=X_reduced[:, 0], y=X_reduced[:, 1], hue=df['Species'])"
   ],
   "metadata": {
    "collapsed": false
   }
  },
  {
   "cell_type": "code",
   "execution_count": null,
   "outputs": [],
   "source": [
    "# the different between the CKmeans and the actual data\n",
    "pd.crosstab(iris.target, ckm_res.cl)"
   ],
   "metadata": {
    "collapsed": false
   }
  },
  {
   "cell_type": "code",
   "execution_count": null,
   "outputs": [],
   "source": [
    "# Ensemble Clustering using CKmeans with a multi k = [2, 3, 4, 5]\n",
    "mckm = MultiCKMeans(k=[2, 3, 4, 5], n_rep=100)\n",
    "mckm.fit(iris.data)\n",
    "mckm_res = mckm.predict(iris.data)\n",
    "df_species = []\n",
    "for i in range(4):\n",
    "    define_species(df, mckm_res.ckmeans_results[i].cl)\n",
    "    df_species.append(df['Species'])\n",
    "\n",
    "# plot clustering metrics against k\n",
    "# BIC, DB: lower is better\n",
    "# SIL, CH: higher is better\n",
    "mckm_res.plot_metrics(figsize=(10,5))"
   ],
   "metadata": {
    "collapsed": false
   }
  },
  {
   "cell_type": "code",
   "execution_count": null,
   "outputs": [],
   "source": [
    "# display the result for each k\n",
    "df['Species'] = df_species[0]\n",
    "sns.scatterplot(x=X_reduced[:, 0], y=X_reduced[:, 1], hue=df['Species'])"
   ],
   "metadata": {
    "collapsed": false
   }
  },
  {
   "cell_type": "code",
   "execution_count": null,
   "outputs": [],
   "source": [
    "df['Species'] = df_species[1]\n",
    "sns.scatterplot(x=X_reduced[:, 0], y=X_reduced[:, 1], hue=df['Species'])"
   ],
   "metadata": {
    "collapsed": false
   }
  },
  {
   "cell_type": "code",
   "execution_count": null,
   "outputs": [],
   "source": [
    "df['Species'] = df_species[2]\n",
    "sns.scatterplot(x=X_reduced[:, 0], y=X_reduced[:, 1], hue=df['Species'])"
   ],
   "metadata": {
    "collapsed": false
   }
  },
  {
   "cell_type": "code",
   "execution_count": null,
   "outputs": [],
   "source": [
    "df['Species'] = df_species[3]\n",
    "sns.scatterplot(x=X_reduced[:, 0], y=X_reduced[:, 1], hue=df['Species'])"
   ],
   "metadata": {
    "collapsed": false
   }
  },
  {
   "cell_type": "code",
   "execution_count": null,
   "outputs": [],
   "source": [
    "'''\n",
    "Ensemble Clustering using algo_name ['cspa', 'mcla', 'hbgf', 'nmf'] from ClusterEnsembles\n",
    "Input = results of Kmeans models from earlier with k = [2, 3, 4, 5]\n",
    "compare the result of algo_name with the actual data and display the difference for k = 3 (best k)\n",
    "'''\n",
    "def useEnsembleClustering(algo_name, best_k, ensemble_input, k_list):\n",
    "    print(f'The result of {algo_name}')\n",
    "    scores = []\n",
    "    for k in k_list:\n",
    "        label_pred = CE.cluster_ensembles(ensemble_input, nclass=k, solver=algo_name)\n",
    "        if k == best_k:\n",
    "            print(pd.crosstab(iris.target, label_pred))\n",
    "        scores_for_k = []\n",
    "        #TODO nur 3 stellen nach der komma  auch Mittelwert und Varianz berechnen. \n",
    "        scores_for_k.append(jaccard_score(iris.target, label_pred, average='weighted'))\n",
    "        scores_for_k.append(davies_bouldin_score(X_reduced, label_pred))\n",
    "        scores_for_k.append(silhouette_score(X_reduced, label_pred))\n",
    "        scores_for_k.append(normalized_mutual_info_score(iris.target, label_pred, average_method='geometric'))\n",
    "        scores_for_k.append(adjusted_rand_score(iris.target, label_pred))\n",
    "        scores_for_k.append(fowlkes_mallows_score(iris.target, label_pred))\n",
    "        scores_for_k.append(calinski_harabasz_score(X_reduced, label_pred))\n",
    "        scores.append(scores_for_k)\n",
    "    print(\"jaccard_score, davies_bouldin_score, silhouette_score, normalized_mutual_info_score, adjusted_rand_score, fowlkes_mallows_score, calinski_harabasz_score\")\n",
    "    for element in scores:\n",
    "        print(element)\n",
    "ensemble_input = np.array([k2_model.labels_, k3_model.labels_, k4_model.labels_, k5_model.labels_])\n",
    "useEnsembleClustering('cspa', 3, ensemble_input, [2, 3, 4, 5])"
   ],
   "metadata": {
    "collapsed": false
   }
  },
  {
   "cell_type": "code",
   "execution_count": null,
   "outputs": [],
   "source": [
    "useEnsembleClustering('mcla', 3, ensemble_input, [2, 3, 4, 5])"
   ],
   "metadata": {
    "collapsed": false
   }
  },
  {
   "cell_type": "code",
   "execution_count": null,
   "outputs": [],
   "source": [
    "useEnsembleClustering('hbgf', 3, ensemble_input, [2, 3, 4, 5])"
   ],
   "metadata": {
    "collapsed": false
   }
  },
  {
   "cell_type": "code",
   "execution_count": null,
   "outputs": [],
   "source": [
    "useEnsembleClustering('nmf', 3, ensemble_input, [2, 3, 4, 5])"
   ],
   "metadata": {
    "collapsed": false
   }
  },
  {
   "cell_type": "code",
   "execution_count": null,
   "outputs": [],
   "source": [],
   "metadata": {
    "collapsed": false
   }
  }
 ],
 "metadata": {
  "kernelspec": {
   "display_name": "Python 3",
   "language": "python",
   "name": "python3"
  },
  "language_info": {
   "codemirror_mode": {
    "name": "ipython",
    "version": 2
   },
   "file_extension": ".py",
   "mimetype": "text/x-python",
   "name": "python",
   "nbconvert_exporter": "python",
   "pygments_lexer": "ipython2",
   "version": "2.7.6"
  }
 },
 "nbformat": 4,
 "nbformat_minor": 0
}
