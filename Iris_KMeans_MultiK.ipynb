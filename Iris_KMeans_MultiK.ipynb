{
 "cells": [
  {
   "cell_type": "code",
   "execution_count": 1,
   "id": "911c1a75",
   "metadata": {},
   "outputs": [],
   "source": [
    "from sklearn.datasets import load_iris\n",
    "from parallel_functions import *\n",
    "import time"
   ]
  },
  {
   "cell_type": "code",
   "execution_count": 2,
   "id": "fd49fd21",
   "metadata": {},
   "outputs": [],
   "source": [
    "k_list = [2, 3, 4]\n",
    "itr_num = 20"
   ]
  },
  {
   "cell_type": "code",
   "execution_count": 3,
   "id": "b5d43814",
   "metadata": {},
   "outputs": [
    {
     "data": {
      "text/plain": [
       "<parallel_functions.CompareClustering at 0x7f5ecc1b4bb0>"
      ]
     },
     "execution_count": 3,
     "metadata": {},
     "output_type": "execute_result"
    }
   ],
   "source": [
    "# Load the iris dataset\n",
    "iris=load_iris()\n",
    "data = iris.data\n",
    "target = iris.target\n",
    "compareClustring = CompareClustering()\n",
    "compareClustring"
   ]
  },
  {
   "cell_type": "code",
   "execution_count": 4,
   "id": "04c0f112",
   "metadata": {},
   "outputs": [
    {
     "name": "stdout",
     "output_type": "stream",
     "text": [
      "NMF is running\n",
      "CSPA is running\n",
      "MCLA is running\n",
      "HBGF is running\n",
      "7096.059280872345\n"
     ]
    }
   ],
   "source": [
    "# Create ensemble clustering ['NMF', 'CSPA', 'MCLA', 'HBGF'] using KMeans as base clustering\n",
    "start = time.time()\n",
    "compareClustring.perform_ensemble_clustering('KMeans', k_list, itr_num, data, target)\n",
    "end = time.time()\n",
    "print(end - start)"
   ]
  },
  {
   "cell_type": "code",
   "execution_count": 5,
   "id": "4a6f4c18",
   "metadata": {},
   "outputs": [],
   "source": [
    "# Create KMeans models for the iris dataset with 3 clusters and 10 iterations\n",
    "k_means_models = create_kmeans_models_parallel(k_list, itr_num, data)\n",
    "k_means_labels = get_labels_from_models(k_means_models)\n",
    "\n",
    "compareClustring.add_validation_results(data, target, k_means_labels, 'KMeans')"
   ]
  },
  {
   "cell_type": "code",
   "execution_count": 6,
   "id": "92817803",
   "metadata": {},
   "outputs": [],
   "source": [
    "single_km_df = compareClustring.df\n",
    "time_dic = compareClustring.time_dic"
   ]
  },
  {
   "cell_type": "code",
   "execution_count": 7,
   "id": "1ae77120",
   "metadata": {},
   "outputs": [],
   "source": [
    "# save the information in Excle file\n",
    "single_km_df.to_csv('Iris_Results/kmeans_234_itr_20_iris.csv', index=False)"
   ]
  },
  {
   "cell_type": "code",
   "execution_count": 8,
   "id": "a0fea799",
   "metadata": {},
   "outputs": [],
   "source": [
    "\n",
    "df = pd.DataFrame.from_dict(time_dic)\n",
    "df.to_csv('Iris_Results/Time_kmeans_234_itr_20_iris.csv', index= False)"
   ]
  },
  {
   "cell_type": "code",
   "execution_count": 9,
   "id": "a6e560af",
   "metadata": {},
   "outputs": [
    {
     "data": {
      "text/html": [
       "<style  type=\"text/css\" >\n",
       "</style><table id=\"T_e0380546_b5dd_11ed_b31f_509a4c5f2309\" ><thead>    <tr>        <th class=\"index_name level0\" >Validation technique:</th>        <th class=\"col_heading level0 col0\" colspan=4>DB_Score</th>        <th class=\"col_heading level0 col4\" colspan=4>SH_Score</th>        <th class=\"col_heading level0 col8\" colspan=4>CH_Score</th>        <th class=\"col_heading level0 col12\" colspan=4>NMF_Score</th>        <th class=\"col_heading level0 col16\" colspan=4>AR_Score</th>        <th class=\"col_heading level0 col20\" colspan=4>J_Score</th>    </tr>    <tr>        <th class=\"index_name level1\" ></th>        <th class=\"col_heading level1 col0\" >Min</th>        <th class=\"col_heading level1 col1\" >Max</th>        <th class=\"col_heading level1 col2\" >Mean</th>        <th class=\"col_heading level1 col3\" >Var</th>        <th class=\"col_heading level1 col4\" >Min</th>        <th class=\"col_heading level1 col5\" >Max</th>        <th class=\"col_heading level1 col6\" >Mean</th>        <th class=\"col_heading level1 col7\" >Var</th>        <th class=\"col_heading level1 col8\" >Min</th>        <th class=\"col_heading level1 col9\" >Max</th>        <th class=\"col_heading level1 col10\" >Mean</th>        <th class=\"col_heading level1 col11\" >Var</th>        <th class=\"col_heading level1 col12\" >Min</th>        <th class=\"col_heading level1 col13\" >Max</th>        <th class=\"col_heading level1 col14\" >Mean</th>        <th class=\"col_heading level1 col15\" >Var</th>        <th class=\"col_heading level1 col16\" >Min</th>        <th class=\"col_heading level1 col17\" >Max</th>        <th class=\"col_heading level1 col18\" >Mean</th>        <th class=\"col_heading level1 col19\" >Var</th>        <th class=\"col_heading level1 col20\" >Min</th>        <th class=\"col_heading level1 col21\" >Max</th>        <th class=\"col_heading level1 col22\" >Mean</th>        <th class=\"col_heading level1 col23\" >Var</th>    </tr>    <tr>        <th class=\"index_name level0\" >Algorithm name</th>        <th class=\"blank\" ></th>        <th class=\"blank\" ></th>        <th class=\"blank\" ></th>        <th class=\"blank\" ></th>        <th class=\"blank\" ></th>        <th class=\"blank\" ></th>        <th class=\"blank\" ></th>        <th class=\"blank\" ></th>        <th class=\"blank\" ></th>        <th class=\"blank\" ></th>        <th class=\"blank\" ></th>        <th class=\"blank\" ></th>        <th class=\"blank\" ></th>        <th class=\"blank\" ></th>        <th class=\"blank\" ></th>        <th class=\"blank\" ></th>        <th class=\"blank\" ></th>        <th class=\"blank\" ></th>        <th class=\"blank\" ></th>        <th class=\"blank\" ></th>        <th class=\"blank\" ></th>        <th class=\"blank\" ></th>        <th class=\"blank\" ></th>        <th class=\"blank\" ></th>    </tr></thead><tbody>\n",
       "                <tr>\n",
       "                        <th id=\"T_e0380546_b5dd_11ed_b31f_509a4c5f2309level0_row0\" class=\"row_heading level0 row0\" >nmf</th>\n",
       "                        <td id=\"T_e0380546_b5dd_11ed_b31f_509a4c5f2309row0_col0\" class=\"data row0 col0\" >0.370960</td>\n",
       "                        <td id=\"T_e0380546_b5dd_11ed_b31f_509a4c5f2309row0_col1\" class=\"data row0 col1\" >0.721740</td>\n",
       "                        <td id=\"T_e0380546_b5dd_11ed_b31f_509a4c5f2309row0_col2\" class=\"data row0 col2\" >0.535690</td>\n",
       "                        <td id=\"T_e0380546_b5dd_11ed_b31f_509a4c5f2309row0_col3\" class=\"data row0 col3\" >0.014270</td>\n",
       "                        <td id=\"T_e0380546_b5dd_11ed_b31f_509a4c5f2309row0_col4\" class=\"data row0 col4\" >0.339070</td>\n",
       "                        <td id=\"T_e0380546_b5dd_11ed_b31f_509a4c5f2309row0_col5\" class=\"data row0 col5\" >0.705670</td>\n",
       "                        <td id=\"T_e0380546_b5dd_11ed_b31f_509a4c5f2309row0_col6\" class=\"data row0 col6\" >0.606160</td>\n",
       "                        <td id=\"T_e0380546_b5dd_11ed_b31f_509a4c5f2309row0_col7\" class=\"data row0 col7\" >0.006280</td>\n",
       "                        <td id=\"T_e0380546_b5dd_11ed_b31f_509a4c5f2309row0_col8\" class=\"data row0 col8\" >114.420740</td>\n",
       "                        <td id=\"T_e0380546_b5dd_11ed_b31f_509a4c5f2309row0_col9\" class=\"data row0 col9\" >693.708430</td>\n",
       "                        <td id=\"T_e0380546_b5dd_11ed_b31f_509a4c5f2309row0_col10\" class=\"data row0 col10\" >632.159510</td>\n",
       "                        <td id=\"T_e0380546_b5dd_11ed_b31f_509a4c5f2309row0_col11\" class=\"data row0 col11\" >7670.859560</td>\n",
       "                        <td id=\"T_e0380546_b5dd_11ed_b31f_509a4c5f2309row0_col12\" class=\"data row0 col12\" >0.396100</td>\n",
       "                        <td id=\"T_e0380546_b5dd_11ed_b31f_509a4c5f2309row0_col13\" class=\"data row0 col13\" >0.758210</td>\n",
       "                        <td id=\"T_e0380546_b5dd_11ed_b31f_509a4c5f2309row0_col14\" class=\"data row0 col14\" >0.706130</td>\n",
       "                        <td id=\"T_e0380546_b5dd_11ed_b31f_509a4c5f2309row0_col15\" class=\"data row0 col15\" >0.002470</td>\n",
       "                        <td id=\"T_e0380546_b5dd_11ed_b31f_509a4c5f2309row0_col16\" class=\"data row0 col16\" >0.264630</td>\n",
       "                        <td id=\"T_e0380546_b5dd_11ed_b31f_509a4c5f2309row0_col17\" class=\"data row0 col17\" >0.730240</td>\n",
       "                        <td id=\"T_e0380546_b5dd_11ed_b31f_509a4c5f2309row0_col18\" class=\"data row0 col18\" >0.637130</td>\n",
       "                        <td id=\"T_e0380546_b5dd_11ed_b31f_509a4c5f2309row0_col19\" class=\"data row0 col19\" >0.008060</td>\n",
       "                        <td id=\"T_e0380546_b5dd_11ed_b31f_509a4c5f2309row0_col20\" class=\"data row0 col20\" >0.004330</td>\n",
       "                        <td id=\"T_e0380546_b5dd_11ed_b31f_509a4c5f2309row0_col21\" class=\"data row0 col21\" >0.814100</td>\n",
       "                        <td id=\"T_e0380546_b5dd_11ed_b31f_509a4c5f2309row0_col22\" class=\"data row0 col22\" >0.233000</td>\n",
       "                        <td id=\"T_e0380546_b5dd_11ed_b31f_509a4c5f2309row0_col23\" class=\"data row0 col23\" >0.048750</td>\n",
       "            </tr>\n",
       "            <tr>\n",
       "                        <th id=\"T_e0380546_b5dd_11ed_b31f_509a4c5f2309level0_row1\" class=\"row_heading level0 row1\" >cspa</th>\n",
       "                        <td id=\"T_e0380546_b5dd_11ed_b31f_509a4c5f2309row1_col0\" class=\"data row1 col0\" >1.103030</td>\n",
       "                        <td id=\"T_e0380546_b5dd_11ed_b31f_509a4c5f2309row1_col1\" class=\"data row1 col1\" >4.160470</td>\n",
       "                        <td id=\"T_e0380546_b5dd_11ed_b31f_509a4c5f2309row1_col2\" class=\"data row1 col2\" >2.237360</td>\n",
       "                        <td id=\"T_e0380546_b5dd_11ed_b31f_509a4c5f2309row1_col3\" class=\"data row1 col3\" >1.869080</td>\n",
       "                        <td id=\"T_e0380546_b5dd_11ed_b31f_509a4c5f2309row1_col4\" class=\"data row1 col4\" >0.220360</td>\n",
       "                        <td id=\"T_e0380546_b5dd_11ed_b31f_509a4c5f2309row1_col5\" class=\"data row1 col5\" >0.477060</td>\n",
       "                        <td id=\"T_e0380546_b5dd_11ed_b31f_509a4c5f2309row1_col6\" class=\"data row1 col6\" >0.366180</td>\n",
       "                        <td id=\"T_e0380546_b5dd_11ed_b31f_509a4c5f2309row1_col7\" class=\"data row1 col7\" >0.011590</td>\n",
       "                        <td id=\"T_e0380546_b5dd_11ed_b31f_509a4c5f2309row1_col8\" class=\"data row1 col8\" >46.068800</td>\n",
       "                        <td id=\"T_e0380546_b5dd_11ed_b31f_509a4c5f2309row1_col9\" class=\"data row1 col9\" >361.071610</td>\n",
       "                        <td id=\"T_e0380546_b5dd_11ed_b31f_509a4c5f2309row1_col10\" class=\"data row1 col10\" >155.295760</td>\n",
       "                        <td id=\"T_e0380546_b5dd_11ed_b31f_509a4c5f2309row1_col11\" class=\"data row1 col11\" >21198.639230</td>\n",
       "                        <td id=\"T_e0380546_b5dd_11ed_b31f_509a4c5f2309row1_col12\" class=\"data row1 col12\" >0.445600</td>\n",
       "                        <td id=\"T_e0380546_b5dd_11ed_b31f_509a4c5f2309row1_col13\" class=\"data row1 col13\" >0.646140</td>\n",
       "                        <td id=\"T_e0380546_b5dd_11ed_b31f_509a4c5f2309row1_col14\" class=\"data row1 col14\" >0.523480</td>\n",
       "                        <td id=\"T_e0380546_b5dd_11ed_b31f_509a4c5f2309row1_col15\" class=\"data row1 col15\" >0.007700</td>\n",
       "                        <td id=\"T_e0380546_b5dd_11ed_b31f_509a4c5f2309row1_col16\" class=\"data row1 col16\" >0.387750</td>\n",
       "                        <td id=\"T_e0380546_b5dd_11ed_b31f_509a4c5f2309row1_col17\" class=\"data row1 col17\" >0.600460</td>\n",
       "                        <td id=\"T_e0380546_b5dd_11ed_b31f_509a4c5f2309row1_col18\" class=\"data row1 col18\" >0.460100</td>\n",
       "                        <td id=\"T_e0380546_b5dd_11ed_b31f_509a4c5f2309row1_col19\" class=\"data row1 col19\" >0.009850</td>\n",
       "                        <td id=\"T_e0380546_b5dd_11ed_b31f_509a4c5f2309row1_col20\" class=\"data row1 col20\" >0.091480</td>\n",
       "                        <td id=\"T_e0380546_b5dd_11ed_b31f_509a4c5f2309row1_col21\" class=\"data row1 col21\" >0.716520</td>\n",
       "                        <td id=\"T_e0380546_b5dd_11ed_b31f_509a4c5f2309row1_col22\" class=\"data row1 col22\" >0.410360</td>\n",
       "                        <td id=\"T_e0380546_b5dd_11ed_b31f_509a4c5f2309row1_col23\" class=\"data row1 col23\" >0.065190</td>\n",
       "            </tr>\n",
       "            <tr>\n",
       "                        <th id=\"T_e0380546_b5dd_11ed_b31f_509a4c5f2309level0_row2\" class=\"row_heading level0 row2\" >mcla</th>\n",
       "                        <td id=\"T_e0380546_b5dd_11ed_b31f_509a4c5f2309row2_col0\" class=\"data row2 col0\" >0.370960</td>\n",
       "                        <td id=\"T_e0380546_b5dd_11ed_b31f_509a4c5f2309row2_col1\" class=\"data row2 col1\" >0.566310</td>\n",
       "                        <td id=\"T_e0380546_b5dd_11ed_b31f_509a4c5f2309row2_col2\" class=\"data row2 col2\" >0.493590</td>\n",
       "                        <td id=\"T_e0380546_b5dd_11ed_b31f_509a4c5f2309row2_col3\" class=\"data row2 col3\" >0.007610</td>\n",
       "                        <td id=\"T_e0380546_b5dd_11ed_b31f_509a4c5f2309row2_col4\" class=\"data row2 col4\" >0.497640</td>\n",
       "                        <td id=\"T_e0380546_b5dd_11ed_b31f_509a4c5f2309row2_col5\" class=\"data row2 col5\" >0.705670</td>\n",
       "                        <td id=\"T_e0380546_b5dd_11ed_b31f_509a4c5f2309row2_col6\" class=\"data row2 col6\" >0.623660</td>\n",
       "                        <td id=\"T_e0380546_b5dd_11ed_b31f_509a4c5f2309row2_col7\" class=\"data row2 col7\" >0.003890</td>\n",
       "                        <td id=\"T_e0380546_b5dd_11ed_b31f_509a4c5f2309row2_col8\" class=\"data row2 col8\" >503.814750</td>\n",
       "                        <td id=\"T_e0380546_b5dd_11ed_b31f_509a4c5f2309row2_col9\" class=\"data row2 col9\" >693.708430</td>\n",
       "                        <td id=\"T_e0380546_b5dd_11ed_b31f_509a4c5f2309row2_col10\" class=\"data row2 col10\" >622.115320</td>\n",
       "                        <td id=\"T_e0380546_b5dd_11ed_b31f_509a4c5f2309row2_col11\" class=\"data row2 col11\" >3804.501250</td>\n",
       "                        <td id=\"T_e0380546_b5dd_11ed_b31f_509a4c5f2309row2_col12\" class=\"data row2 col12\" >0.664760</td>\n",
       "                        <td id=\"T_e0380546_b5dd_11ed_b31f_509a4c5f2309row2_col13\" class=\"data row2 col13\" >0.777320</td>\n",
       "                        <td id=\"T_e0380546_b5dd_11ed_b31f_509a4c5f2309row2_col14\" class=\"data row2 col14\" >0.723910</td>\n",
       "                        <td id=\"T_e0380546_b5dd_11ed_b31f_509a4c5f2309row2_col15\" class=\"data row2 col15\" >0.001410</td>\n",
       "                        <td id=\"T_e0380546_b5dd_11ed_b31f_509a4c5f2309row2_col16\" class=\"data row2 col16\" >0.539920</td>\n",
       "                        <td id=\"T_e0380546_b5dd_11ed_b31f_509a4c5f2309row2_col17\" class=\"data row2 col17\" >0.730240</td>\n",
       "                        <td id=\"T_e0380546_b5dd_11ed_b31f_509a4c5f2309row2_col18\" class=\"data row2 col18\" >0.645130</td>\n",
       "                        <td id=\"T_e0380546_b5dd_11ed_b31f_509a4c5f2309row2_col19\" class=\"data row2 col19\" >0.006890</td>\n",
       "                        <td id=\"T_e0380546_b5dd_11ed_b31f_509a4c5f2309row2_col20\" class=\"data row2 col20\" >0.000000</td>\n",
       "                        <td id=\"T_e0380546_b5dd_11ed_b31f_509a4c5f2309row2_col21\" class=\"data row2 col21\" >0.814100</td>\n",
       "                        <td id=\"T_e0380546_b5dd_11ed_b31f_509a4c5f2309row2_col22\" class=\"data row2 col22\" >0.268350</td>\n",
       "                        <td id=\"T_e0380546_b5dd_11ed_b31f_509a4c5f2309row2_col23\" class=\"data row2 col23\" >0.066940</td>\n",
       "            </tr>\n",
       "            <tr>\n",
       "                        <th id=\"T_e0380546_b5dd_11ed_b31f_509a4c5f2309level0_row3\" class=\"row_heading level0 row3\" >hbgf</th>\n",
       "                        <td id=\"T_e0380546_b5dd_11ed_b31f_509a4c5f2309row3_col0\" class=\"data row3 col0\" >0.716730</td>\n",
       "                        <td id=\"T_e0380546_b5dd_11ed_b31f_509a4c5f2309row3_col1\" class=\"data row3 col1\" >3.402480</td>\n",
       "                        <td id=\"T_e0380546_b5dd_11ed_b31f_509a4c5f2309row3_col2\" class=\"data row3 col2\" >1.765410</td>\n",
       "                        <td id=\"T_e0380546_b5dd_11ed_b31f_509a4c5f2309row3_col3\" class=\"data row3 col3\" >1.375310</td>\n",
       "                        <td id=\"T_e0380546_b5dd_11ed_b31f_509a4c5f2309row3_col4\" class=\"data row3 col4\" >0.212680</td>\n",
       "                        <td id=\"T_e0380546_b5dd_11ed_b31f_509a4c5f2309row3_col5\" class=\"data row3 col5\" >0.565960</td>\n",
       "                        <td id=\"T_e0380546_b5dd_11ed_b31f_509a4c5f2309row3_col6\" class=\"data row3 col6\" >0.418890</td>\n",
       "                        <td id=\"T_e0380546_b5dd_11ed_b31f_509a4c5f2309row3_col7\" class=\"data row3 col7\" >0.022550</td>\n",
       "                        <td id=\"T_e0380546_b5dd_11ed_b31f_509a4c5f2309row3_col8\" class=\"data row3 col8\" >55.173180</td>\n",
       "                        <td id=\"T_e0380546_b5dd_11ed_b31f_509a4c5f2309row3_col9\" class=\"data row3 col9\" >486.695480</td>\n",
       "                        <td id=\"T_e0380546_b5dd_11ed_b31f_509a4c5f2309row3_col10\" class=\"data row3 col10\" >204.551780</td>\n",
       "                        <td id=\"T_e0380546_b5dd_11ed_b31f_509a4c5f2309row3_col11\" class=\"data row3 col11\" >39848.534110</td>\n",
       "                        <td id=\"T_e0380546_b5dd_11ed_b31f_509a4c5f2309row3_col12\" class=\"data row3 col12\" >0.520140</td>\n",
       "                        <td id=\"T_e0380546_b5dd_11ed_b31f_509a4c5f2309row3_col13\" class=\"data row3 col13\" >0.703710</td>\n",
       "                        <td id=\"T_e0380546_b5dd_11ed_b31f_509a4c5f2309row3_col14\" class=\"data row3 col14\" >0.591100</td>\n",
       "                        <td id=\"T_e0380546_b5dd_11ed_b31f_509a4c5f2309row3_col15\" class=\"data row3 col15\" >0.006480</td>\n",
       "                        <td id=\"T_e0380546_b5dd_11ed_b31f_509a4c5f2309row3_col16\" class=\"data row3 col16\" >0.411870</td>\n",
       "                        <td id=\"T_e0380546_b5dd_11ed_b31f_509a4c5f2309row3_col17\" class=\"data row3 col17\" >0.677080</td>\n",
       "                        <td id=\"T_e0380546_b5dd_11ed_b31f_509a4c5f2309row3_col18\" class=\"data row3 col18\" >0.515200</td>\n",
       "                        <td id=\"T_e0380546_b5dd_11ed_b31f_509a4c5f2309row3_col19\" class=\"data row3 col19\" >0.013440</td>\n",
       "                        <td id=\"T_e0380546_b5dd_11ed_b31f_509a4c5f2309row3_col20\" class=\"data row3 col20\" >0.151650</td>\n",
       "                        <td id=\"T_e0380546_b5dd_11ed_b31f_509a4c5f2309row3_col21\" class=\"data row3 col21\" >0.450940</td>\n",
       "                        <td id=\"T_e0380546_b5dd_11ed_b31f_509a4c5f2309row3_col22\" class=\"data row3 col22\" >0.272290</td>\n",
       "                        <td id=\"T_e0380546_b5dd_11ed_b31f_509a4c5f2309row3_col23\" class=\"data row3 col23\" >0.016610</td>\n",
       "            </tr>\n",
       "            <tr>\n",
       "                        <th id=\"T_e0380546_b5dd_11ed_b31f_509a4c5f2309level0_row4\" class=\"row_heading level0 row4\" >KMeans</th>\n",
       "                        <td id=\"T_e0380546_b5dd_11ed_b31f_509a4c5f2309row4_col0\" class=\"data row4 col0\" >0.370960</td>\n",
       "                        <td id=\"T_e0380546_b5dd_11ed_b31f_509a4c5f2309row4_col1\" class=\"data row4 col1\" >0.913320</td>\n",
       "                        <td id=\"T_e0380546_b5dd_11ed_b31f_509a4c5f2309row4_col2\" class=\"data row4 col2\" >0.555270</td>\n",
       "                        <td id=\"T_e0380546_b5dd_11ed_b31f_509a4c5f2309row4_col3\" class=\"data row4 col3\" >0.024450</td>\n",
       "                        <td id=\"T_e0380546_b5dd_11ed_b31f_509a4c5f2309row4_col4\" class=\"data row4 col4\" >0.472410</td>\n",
       "                        <td id=\"T_e0380546_b5dd_11ed_b31f_509a4c5f2309row4_col5\" class=\"data row4 col5\" >0.705670</td>\n",
       "                        <td id=\"T_e0380546_b5dd_11ed_b31f_509a4c5f2309row4_col6\" class=\"data row4 col6\" >0.607380</td>\n",
       "                        <td id=\"T_e0380546_b5dd_11ed_b31f_509a4c5f2309row4_col7\" class=\"data row4 col7\" >0.006000</td>\n",
       "                        <td id=\"T_e0380546_b5dd_11ed_b31f_509a4c5f2309row4_col8\" class=\"data row4 col8\" >302.059470</td>\n",
       "                        <td id=\"T_e0380546_b5dd_11ed_b31f_509a4c5f2309row4_col9\" class=\"data row4 col9\" >716.208630</td>\n",
       "                        <td id=\"T_e0380546_b5dd_11ed_b31f_509a4c5f2309row4_col10\" class=\"data row4 col10\" >605.528110</td>\n",
       "                        <td id=\"T_e0380546_b5dd_11ed_b31f_509a4c5f2309row4_col11\" class=\"data row4 col11\" >13163.399870</td>\n",
       "                        <td id=\"T_e0380546_b5dd_11ed_b31f_509a4c5f2309row4_col12\" class=\"data row4 col12\" >0.590410</td>\n",
       "                        <td id=\"T_e0380546_b5dd_11ed_b31f_509a4c5f2309row4_col13\" class=\"data row4 col13\" >0.758210</td>\n",
       "                        <td id=\"T_e0380546_b5dd_11ed_b31f_509a4c5f2309row4_col14\" class=\"data row4 col14\" >0.698140</td>\n",
       "                        <td id=\"T_e0380546_b5dd_11ed_b31f_509a4c5f2309row4_col15\" class=\"data row4 col15\" >0.001920</td>\n",
       "                        <td id=\"T_e0380546_b5dd_11ed_b31f_509a4c5f2309row4_col16\" class=\"data row4 col16\" >0.419680</td>\n",
       "                        <td id=\"T_e0380546_b5dd_11ed_b31f_509a4c5f2309row4_col17\" class=\"data row4 col17\" >0.730240</td>\n",
       "                        <td id=\"T_e0380546_b5dd_11ed_b31f_509a4c5f2309row4_col18\" class=\"data row4 col18\" >0.601620</td>\n",
       "                        <td id=\"T_e0380546_b5dd_11ed_b31f_509a4c5f2309row4_col19\" class=\"data row4 col19\" >0.007930</td>\n",
       "                        <td id=\"T_e0380546_b5dd_11ed_b31f_509a4c5f2309row4_col20\" class=\"data row4 col20\" >0.000000</td>\n",
       "                        <td id=\"T_e0380546_b5dd_11ed_b31f_509a4c5f2309row4_col21\" class=\"data row4 col21\" >0.804540</td>\n",
       "                        <td id=\"T_e0380546_b5dd_11ed_b31f_509a4c5f2309row4_col22\" class=\"data row4 col22\" >0.229200</td>\n",
       "                        <td id=\"T_e0380546_b5dd_11ed_b31f_509a4c5f2309row4_col23\" class=\"data row4 col23\" >0.042190</td>\n",
       "            </tr>\n",
       "    </tbody></table>"
      ],
      "text/plain": [
       "<pandas.io.formats.style.Styler at 0x7f5ea152e7c0>"
      ]
     },
     "execution_count": 9,
     "metadata": {},
     "output_type": "execute_result"
    }
   ],
   "source": [
    "compareClustring.display_results()"
   ]
  },
  {
   "cell_type": "code",
   "execution_count": 10,
   "id": "aaa38043",
   "metadata": {},
   "outputs": [
    {
     "name": "stdout",
     "output_type": "stream",
     "text": [
      "        mean_time\n",
      "nmf     41.223625\n",
      "cspa    29.017416\n",
      "mcla  2084.433949\n",
      "hbgf    23.886740\n"
     ]
    }
   ],
   "source": [
    "compareClustring.display_time()"
   ]
  },
  {
   "cell_type": "code",
   "execution_count": 11,
   "id": "550a5a2d",
   "metadata": {},
   "outputs": [],
   "source": [
    "del compareClustring"
   ]
  }
 ],
 "metadata": {
  "kernelspec": {
   "display_name": "Python 3",
   "language": "python",
   "name": "python3"
  },
  "language_info": {
   "codemirror_mode": {
    "name": "ipython",
    "version": 3
   },
   "file_extension": ".py",
   "mimetype": "text/x-python",
   "name": "python",
   "nbconvert_exporter": "python",
   "pygments_lexer": "ipython3",
   "version": "3.9.2"
  }
 },
 "nbformat": 4,
 "nbformat_minor": 5
}
