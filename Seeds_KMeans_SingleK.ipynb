{
 "cells": [
  {
   "cell_type": "code",
   "execution_count": null,
   "id": "7f0cb5c8",
   "metadata": {},
   "outputs": [],
   "source": [
    "import numpy as np\n",
    "import pandas as pd\n",
    "import time"
   ]
  },
  {
   "cell_type": "code",
   "execution_count": null,
   "id": "dc842428",
   "metadata": {},
   "outputs": [],
   "source": [
    "df = pd.read_csv('seeds_dataset.txt', sep= '\\t', header= None,\n",
    "                 names=['area','perimeter','compactness','lengthOfKernel','widthOfKernel','asymmetryCoefficient',\n",
    "                        'lengthOfKernelGroove','seedType'])\n",
    "df.head()"
   ]
  },
  {
   "cell_type": "code",
   "execution_count": null,
   "id": "c0bcf448",
   "metadata": {},
   "outputs": [],
   "source": [
    "target = df['seedType']\n",
    "data = df.drop(columns=['seedType'])"
   ]
  },
  {
   "cell_type": "code",
   "execution_count": null,
   "id": "3680f4d2",
   "metadata": {},
   "outputs": [],
   "source": [
    "k_list = [3]\n",
    "itr_num = 50"
   ]
  },
  {
   "cell_type": "code",
   "execution_count": null,
   "id": "9c7ad604",
   "metadata": {},
   "outputs": [],
   "source": [
    "# Create ensemble clustering ['NMF', 'CSPA', 'MCLA', 'HBGF'] using KMeans as base clustering\n",
    "start = time.time()\n",
    "compareClustring.perform_ensemble_clustering('KMeans', k_list, itr_num, data, target)\n",
    "end = time.time()\n",
    "print(end - start)"
   ]
  },
  {
   "cell_type": "code",
   "execution_count": null,
   "id": "b5b788b4",
   "metadata": {},
   "outputs": [],
   "source": [
    "# Create KMeans models for the iris dataset with 3 clusters and 10 iterations\n",
    "k_means_models = create_kmeans_models_parallel(k_list, itr_num, data)\n",
    "k_means_labels = get_labels_from_models(k_means_models)\n",
    "\n",
    "compareClustring.add_validation_results(data, target, k_means_labels, 'KMeans')"
   ]
  },
  {
   "cell_type": "code",
   "execution_count": null,
   "id": "91d47823",
   "metadata": {},
   "outputs": [],
   "source": [
    "single_km_df = compareClustring.df\n",
    "time_dic = compareClustring.time_dic"
   ]
  },
  {
   "cell_type": "code",
   "execution_count": null,
   "id": "5e4e06c4",
   "metadata": {},
   "outputs": [],
   "source": [
    "# save the information in Excle file\n",
    "single_km_df.to_csv('Seeds_Results/kmeans_3_itr_50_seeds.csv', index=False)"
   ]
  },
  {
   "cell_type": "code",
   "execution_count": null,
   "id": "3a50563a",
   "metadata": {},
   "outputs": [],
   "source": [
    "df = pd.DataFrame.from_dict(time_dic)\n",
    "df.to_csv('Seeds_Results/Time_kmeans_3_itr_50_seeds.csv', index= False)"
   ]
  },
  {
   "cell_type": "code",
   "execution_count": null,
   "id": "89d68a62",
   "metadata": {},
   "outputs": [],
   "source": [
    "compareClustring.display_results()"
   ]
  },
  {
   "cell_type": "code",
   "execution_count": null,
   "id": "4dc0a40e",
   "metadata": {},
   "outputs": [],
   "source": [
    "compareClustring.display_time()"
   ]
  },
  {
   "cell_type": "code",
   "execution_count": null,
   "id": "e46e7212",
   "metadata": {},
   "outputs": [],
   "source": [
    "del compareClustring"
   ]
  }
 ],
 "metadata": {
  "kernelspec": {
   "display_name": "Python 3",
   "language": "python",
   "name": "python3"
  },
  "language_info": {
   "codemirror_mode": {
    "name": "ipython",
    "version": 3
   },
   "file_extension": ".py",
   "mimetype": "text/x-python",
   "name": "python",
   "nbconvert_exporter": "python",
   "pygments_lexer": "ipython3",
   "version": "3.9.2"
  }
 },
 "nbformat": 4,
 "nbformat_minor": 5
}
