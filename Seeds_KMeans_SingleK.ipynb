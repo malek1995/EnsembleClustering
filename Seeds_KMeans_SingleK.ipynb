{
 "cells": [
  {
   "cell_type": "code",
   "execution_count": 1,
   "metadata": {
    "collapsed": true
   },
   "outputs": [],
   "source": [
    "import numpy as np\n",
    "import pandas as pd\n",
    "import time\n",
    "from parallel_functions import *"
   ]
  },
  {
   "cell_type": "code",
   "execution_count": 2,
   "outputs": [],
   "source": [
    "df = pd.read_csv('seeds_dataset.txt', sep= '\\t', header= None,\n",
    "                 names=['area','perimeter','compactness','lengthOfKernel','widthOfKernel','asymmetryCoefficient',\n",
    "                        'lengthOfKernelGroove','seedType'])"
   ],
   "metadata": {
    "collapsed": false
   }
  },
  {
   "cell_type": "code",
   "execution_count": 3,
   "outputs": [],
   "source": [
    "target = df['seedType']\n",
    "data = df.drop(columns=['seedType'])"
   ],
   "metadata": {
    "collapsed": false
   }
  },
  {
   "cell_type": "code",
   "execution_count": 4,
   "outputs": [],
   "source": [
    "k_list = [3]\n",
    "itr_num = 60\n",
    "compareClustering = CompareClustering()"
   ],
   "metadata": {
    "collapsed": false
   }
  },
  {
   "cell_type": "code",
   "execution_count": 5,
   "outputs": [
    {
     "name": "stdout",
     "output_type": "stream",
     "text": [
      "NMF is running\n",
      "MCLA is running\n"
     ]
    },
    {
     "name": "stderr",
     "output_type": "stream",
     "text": [
      "/home/malek/DataspellProjects/dsProject/parallel_functions.py:158: FutureWarning: The frame.append method is deprecated and will be removed from pandas in a future version. Use pandas.concat instead.\n",
      "  self.df = self.df.append(\n"
     ]
    },
    {
     "name": "stdout",
     "output_type": "stream",
     "text": [
      "HBGF is running\n"
     ]
    },
    {
     "name": "stderr",
     "output_type": "stream",
     "text": [
      "/home/malek/DataspellProjects/dsProject/parallel_functions.py:158: FutureWarning: The frame.append method is deprecated and will be removed from pandas in a future version. Use pandas.concat instead.\n",
      "  self.df = self.df.append(\n"
     ]
    },
    {
     "name": "stdout",
     "output_type": "stream",
     "text": [
      "CSPA is running\n"
     ]
    },
    {
     "name": "stderr",
     "output_type": "stream",
     "text": [
      "/home/malek/DataspellProjects/dsProject/parallel_functions.py:158: FutureWarning: The frame.append method is deprecated and will be removed from pandas in a future version. Use pandas.concat instead.\n",
      "  self.df = self.df.append(\n"
     ]
    },
    {
     "name": "stdout",
     "output_type": "stream",
     "text": [
      "342.75328636169434\n"
     ]
    },
    {
     "name": "stderr",
     "output_type": "stream",
     "text": [
      "/home/malek/DataspellProjects/dsProject/parallel_functions.py:158: FutureWarning: The frame.append method is deprecated and will be removed from pandas in a future version. Use pandas.concat instead.\n",
      "  self.df = self.df.append(\n"
     ]
    }
   ],
   "source": [
    "start = time.time()\n",
    "compareClustering.perform_ensemble_clustering('KMeans', k_list, itr_num, data, target)\n",
    "end = time.time()\n",
    "print(end - start)"
   ],
   "metadata": {
    "collapsed": false
   }
  },
  {
   "cell_type": "code",
   "execution_count": 6,
   "outputs": [
    {
     "name": "stderr",
     "output_type": "stream",
     "text": [
      "/home/malek/DataspellProjects/dsProject/parallel_functions.py:158: FutureWarning: The frame.append method is deprecated and will be removed from pandas in a future version. Use pandas.concat instead.\n",
      "  self.df = self.df.append(\n"
     ]
    }
   ],
   "source": [
    "k_means_models = create_kmeans_models_parallel(k_list, itr_num, data)\n",
    "k_means_labels = get_labels_from_models(k_means_models)\n",
    "\n",
    "compareClustering.add_validation_results(data, target, k_means_labels, 'KMeans')"
   ],
   "metadata": {
    "collapsed": false
   }
  },
  {
   "cell_type": "code",
   "execution_count": 7,
   "outputs": [],
   "source": [
    "single_km_df = compareClustering.df\n",
    "time_dic = compareClustering.time_dic"
   ],
   "metadata": {
    "collapsed": false
   }
  },
  {
   "cell_type": "code",
   "execution_count": 8,
   "outputs": [],
   "source": [
    "single_km_df.to_csv('Seeds_Results/kmeans_3_itr_60_seeds.csv', index=False)"
   ],
   "metadata": {
    "collapsed": false
   }
  },
  {
   "cell_type": "code",
   "execution_count": 9,
   "outputs": [],
   "source": [
    "df = pd.DataFrame.from_dict(time_dic)\n",
    "df.to_csv('Seeds_Results/Time_kmeans_3_itr_60_seeds.csv', index= False)"
   ],
   "metadata": {
    "collapsed": false
   }
  },
  {
   "cell_type": "code",
   "execution_count": 10,
   "outputs": [
    {
     "data": {
      "text/plain": "<pandas.io.formats.style.Styler at 0x7fb4362fa590>",
      "text/html": "<style type=\"text/css\">\n</style>\n<table id=\"T_6bbb1\">\n  <thead>\n    <tr>\n      <th class=\"index_name level0\" >Validation technique:</th>\n      <th id=\"T_6bbb1_level0_col0\" class=\"col_heading level0 col0\" colspan=\"4\">DB_Score</th>\n      <th id=\"T_6bbb1_level0_col4\" class=\"col_heading level0 col4\" colspan=\"4\">SH_Score</th>\n      <th id=\"T_6bbb1_level0_col8\" class=\"col_heading level0 col8\" colspan=\"4\">CH_Score</th>\n      <th id=\"T_6bbb1_level0_col12\" class=\"col_heading level0 col12\" colspan=\"4\">NMF_Score</th>\n      <th id=\"T_6bbb1_level0_col16\" class=\"col_heading level0 col16\" colspan=\"4\">AR_Score</th>\n      <th id=\"T_6bbb1_level0_col20\" class=\"col_heading level0 col20\" colspan=\"4\">J_Score</th>\n    </tr>\n    <tr>\n      <th class=\"index_name level1\" ></th>\n      <th id=\"T_6bbb1_level1_col0\" class=\"col_heading level1 col0\" >Min</th>\n      <th id=\"T_6bbb1_level1_col1\" class=\"col_heading level1 col1\" >Max</th>\n      <th id=\"T_6bbb1_level1_col2\" class=\"col_heading level1 col2\" >Mean</th>\n      <th id=\"T_6bbb1_level1_col3\" class=\"col_heading level1 col3\" >Var</th>\n      <th id=\"T_6bbb1_level1_col4\" class=\"col_heading level1 col4\" >Min</th>\n      <th id=\"T_6bbb1_level1_col5\" class=\"col_heading level1 col5\" >Max</th>\n      <th id=\"T_6bbb1_level1_col6\" class=\"col_heading level1 col6\" >Mean</th>\n      <th id=\"T_6bbb1_level1_col7\" class=\"col_heading level1 col7\" >Var</th>\n      <th id=\"T_6bbb1_level1_col8\" class=\"col_heading level1 col8\" >Min</th>\n      <th id=\"T_6bbb1_level1_col9\" class=\"col_heading level1 col9\" >Max</th>\n      <th id=\"T_6bbb1_level1_col10\" class=\"col_heading level1 col10\" >Mean</th>\n      <th id=\"T_6bbb1_level1_col11\" class=\"col_heading level1 col11\" >Var</th>\n      <th id=\"T_6bbb1_level1_col12\" class=\"col_heading level1 col12\" >Min</th>\n      <th id=\"T_6bbb1_level1_col13\" class=\"col_heading level1 col13\" >Max</th>\n      <th id=\"T_6bbb1_level1_col14\" class=\"col_heading level1 col14\" >Mean</th>\n      <th id=\"T_6bbb1_level1_col15\" class=\"col_heading level1 col15\" >Var</th>\n      <th id=\"T_6bbb1_level1_col16\" class=\"col_heading level1 col16\" >Min</th>\n      <th id=\"T_6bbb1_level1_col17\" class=\"col_heading level1 col17\" >Max</th>\n      <th id=\"T_6bbb1_level1_col18\" class=\"col_heading level1 col18\" >Mean</th>\n      <th id=\"T_6bbb1_level1_col19\" class=\"col_heading level1 col19\" >Var</th>\n      <th id=\"T_6bbb1_level1_col20\" class=\"col_heading level1 col20\" >Min</th>\n      <th id=\"T_6bbb1_level1_col21\" class=\"col_heading level1 col21\" >Max</th>\n      <th id=\"T_6bbb1_level1_col22\" class=\"col_heading level1 col22\" >Mean</th>\n      <th id=\"T_6bbb1_level1_col23\" class=\"col_heading level1 col23\" >Var</th>\n    </tr>\n    <tr>\n      <th class=\"index_name level0\" >Algorithm name</th>\n      <th class=\"blank col0\" >&nbsp;</th>\n      <th class=\"blank col1\" >&nbsp;</th>\n      <th class=\"blank col2\" >&nbsp;</th>\n      <th class=\"blank col3\" >&nbsp;</th>\n      <th class=\"blank col4\" >&nbsp;</th>\n      <th class=\"blank col5\" >&nbsp;</th>\n      <th class=\"blank col6\" >&nbsp;</th>\n      <th class=\"blank col7\" >&nbsp;</th>\n      <th class=\"blank col8\" >&nbsp;</th>\n      <th class=\"blank col9\" >&nbsp;</th>\n      <th class=\"blank col10\" >&nbsp;</th>\n      <th class=\"blank col11\" >&nbsp;</th>\n      <th class=\"blank col12\" >&nbsp;</th>\n      <th class=\"blank col13\" >&nbsp;</th>\n      <th class=\"blank col14\" >&nbsp;</th>\n      <th class=\"blank col15\" >&nbsp;</th>\n      <th class=\"blank col16\" >&nbsp;</th>\n      <th class=\"blank col17\" >&nbsp;</th>\n      <th class=\"blank col18\" >&nbsp;</th>\n      <th class=\"blank col19\" >&nbsp;</th>\n      <th class=\"blank col20\" >&nbsp;</th>\n      <th class=\"blank col21\" >&nbsp;</th>\n      <th class=\"blank col22\" >&nbsp;</th>\n      <th class=\"blank col23\" >&nbsp;</th>\n    </tr>\n  </thead>\n  <tbody>\n    <tr>\n      <th id=\"T_6bbb1_level0_row0\" class=\"row_heading level0 row0\" >nmf</th>\n      <td id=\"T_6bbb1_row0_col0\" class=\"data row0 col0\" >0.688570</td>\n      <td id=\"T_6bbb1_row0_col1\" class=\"data row0 col1\" >3.796150</td>\n      <td id=\"T_6bbb1_row0_col2\" class=\"data row0 col2\" >0.946140</td>\n      <td id=\"T_6bbb1_row0_col3\" class=\"data row0 col3\" >0.504660</td>\n      <td id=\"T_6bbb1_row0_col4\" class=\"data row0 col4\" >-0.048990</td>\n      <td id=\"T_6bbb1_row0_col5\" class=\"data row0 col5\" >0.480210</td>\n      <td id=\"T_6bbb1_row0_col6\" class=\"data row0 col6\" >0.444930</td>\n      <td id=\"T_6bbb1_row0_col7\" class=\"data row0 col7\" >0.010200</td>\n      <td id=\"T_6bbb1_row0_col8\" class=\"data row0 col8\" >6.920450</td>\n      <td id=\"T_6bbb1_row0_col9\" class=\"data row0 col9\" >387.014330</td>\n      <td id=\"T_6bbb1_row0_col10\" class=\"data row0 col10\" >354.567980</td>\n      <td id=\"T_6bbb1_row0_col11\" class=\"data row0 col11\" >8076.863450</td>\n      <td id=\"T_6bbb1_row0_col12\" class=\"data row0 col12\" >0.397700</td>\n      <td id=\"T_6bbb1_row0_col13\" class=\"data row0 col13\" >0.717600</td>\n      <td id=\"T_6bbb1_row0_col14\" class=\"data row0 col14\" >0.677190</td>\n      <td id=\"T_6bbb1_row0_col15\" class=\"data row0 col15\" >0.003630</td>\n      <td id=\"T_6bbb1_row0_col16\" class=\"data row0 col16\" >0.336090</td>\n      <td id=\"T_6bbb1_row0_col17\" class=\"data row0 col17\" >0.721080</td>\n      <td id=\"T_6bbb1_row0_col18\" class=\"data row0 col18\" >0.682120</td>\n      <td id=\"T_6bbb1_row0_col19\" class=\"data row0 col19\" >0.009000</td>\n      <td id=\"T_6bbb1_row0_col20\" class=\"data row0 col20\" >0.002560</td>\n      <td id=\"T_6bbb1_row0_col21\" class=\"data row0 col21\" >0.525590</td>\n      <td id=\"T_6bbb1_row0_col22\" class=\"data row0 col22\" >0.176600</td>\n      <td id=\"T_6bbb1_row0_col23\" class=\"data row0 col23\" >0.033090</td>\n    </tr>\n    <tr>\n      <th id=\"T_6bbb1_level0_row1\" class=\"row_heading level0 row1\" >mcla</th>\n      <td id=\"T_6bbb1_row1_col0\" class=\"data row1 col0\" >0.736930</td>\n      <td id=\"T_6bbb1_row1_col1\" class=\"data row1 col1\" >0.739060</td>\n      <td id=\"T_6bbb1_row1_col2\" class=\"data row1 col2\" >0.737290</td>\n      <td id=\"T_6bbb1_row1_col3\" class=\"data row1 col3\" >0.000000</td>\n      <td id=\"T_6bbb1_row1_col4\" class=\"data row1 col4\" >0.475940</td>\n      <td id=\"T_6bbb1_row1_col5\" class=\"data row1 col5\" >0.480210</td>\n      <td id=\"T_6bbb1_row1_col6\" class=\"data row1 col6\" >0.479240</td>\n      <td id=\"T_6bbb1_row1_col7\" class=\"data row1 col7\" >0.000000</td>\n      <td id=\"T_6bbb1_row1_col8\" class=\"data row1 col8\" >385.032720</td>\n      <td id=\"T_6bbb1_row1_col9\" class=\"data row1 col9\" >387.014330</td>\n      <td id=\"T_6bbb1_row1_col10\" class=\"data row1 col10\" >386.601130</td>\n      <td id=\"T_6bbb1_row1_col11\" class=\"data row1 col11\" >0.429910</td>\n      <td id=\"T_6bbb1_row1_col12\" class=\"data row1 col12\" >0.678950</td>\n      <td id=\"T_6bbb1_row1_col13\" class=\"data row1 col13\" >0.733860</td>\n      <td id=\"T_6bbb1_row1_col14\" class=\"data row1 col14\" >0.698930</td>\n      <td id=\"T_6bbb1_row1_col15\" class=\"data row1 col15\" >0.000080</td>\n      <td id=\"T_6bbb1_row1_col16\" class=\"data row1 col16\" >0.695180</td>\n      <td id=\"T_6bbb1_row1_col17\" class=\"data row1 col17\" >0.743260</td>\n      <td id=\"T_6bbb1_row1_col18\" class=\"data row1 col18\" >0.716260</td>\n      <td id=\"T_6bbb1_row1_col19\" class=\"data row1 col19\" >0.000050</td>\n      <td id=\"T_6bbb1_row1_col20\" class=\"data row1 col20\" >0.002560</td>\n      <td id=\"T_6bbb1_row1_col21\" class=\"data row1 col21\" >0.525590</td>\n      <td id=\"T_6bbb1_row1_col22\" class=\"data row1 col22\" >0.135980</td>\n      <td id=\"T_6bbb1_row1_col23\" class=\"data row1 col23\" >0.017030</td>\n    </tr>\n    <tr>\n      <th id=\"T_6bbb1_level0_row2\" class=\"row_heading level0 row2\" >hbgf</th>\n      <td id=\"T_6bbb1_row2_col0\" class=\"data row2 col0\" >0.805480</td>\n      <td id=\"T_6bbb1_row2_col1\" class=\"data row2 col1\" >0.974390</td>\n      <td id=\"T_6bbb1_row2_col2\" class=\"data row2 col2\" >0.902750</td>\n      <td id=\"T_6bbb1_row2_col3\" class=\"data row2 col3\" >0.002610</td>\n      <td id=\"T_6bbb1_row2_col4\" class=\"data row2 col4\" >0.383470</td>\n      <td id=\"T_6bbb1_row2_col5\" class=\"data row2 col5\" >0.420650</td>\n      <td id=\"T_6bbb1_row2_col6\" class=\"data row2 col6\" >0.397340</td>\n      <td id=\"T_6bbb1_row2_col7\" class=\"data row2 col7\" >0.000150</td>\n      <td id=\"T_6bbb1_row2_col8\" class=\"data row2 col8\" >161.288650</td>\n      <td id=\"T_6bbb1_row2_col9\" class=\"data row2 col9\" >301.856650</td>\n      <td id=\"T_6bbb1_row2_col10\" class=\"data row2 col10\" >210.774900</td>\n      <td id=\"T_6bbb1_row2_col11\" class=\"data row2 col11\" >2677.666230</td>\n      <td id=\"T_6bbb1_row2_col12\" class=\"data row2 col12\" >0.590560</td>\n      <td id=\"T_6bbb1_row2_col13\" class=\"data row2 col13\" >0.700430</td>\n      <td id=\"T_6bbb1_row2_col14\" class=\"data row2 col14\" >0.616250</td>\n      <td id=\"T_6bbb1_row2_col15\" class=\"data row2 col15\" >0.001330</td>\n      <td id=\"T_6bbb1_row2_col16\" class=\"data row2 col16\" >0.615090</td>\n      <td id=\"T_6bbb1_row2_col17\" class=\"data row2 col17\" >0.740070</td>\n      <td id=\"T_6bbb1_row2_col18\" class=\"data row2 col18\" >0.650450</td>\n      <td id=\"T_6bbb1_row2_col19\" class=\"data row2 col19\" >0.001480</td>\n      <td id=\"T_6bbb1_row2_col20\" class=\"data row2 col20\" >0.027700</td>\n      <td id=\"T_6bbb1_row2_col21\" class=\"data row2 col21\" >0.503640</td>\n      <td id=\"T_6bbb1_row2_col22\" class=\"data row2 col22\" >0.126430</td>\n      <td id=\"T_6bbb1_row2_col23\" class=\"data row2 col23\" >0.022290</td>\n    </tr>\n    <tr>\n      <th id=\"T_6bbb1_level0_row3\" class=\"row_heading level0 row3\" >cspa</th>\n      <td id=\"T_6bbb1_row3_col0\" class=\"data row3 col0\" >0.809420</td>\n      <td id=\"T_6bbb1_row3_col1\" class=\"data row3 col1\" >0.947680</td>\n      <td id=\"T_6bbb1_row3_col2\" class=\"data row3 col2\" >0.871140</td>\n      <td id=\"T_6bbb1_row3_col3\" class=\"data row3 col3\" >0.001630</td>\n      <td id=\"T_6bbb1_row3_col4\" class=\"data row3 col4\" >0.399140</td>\n      <td id=\"T_6bbb1_row3_col5\" class=\"data row3 col5\" >0.416000</td>\n      <td id=\"T_6bbb1_row3_col6\" class=\"data row3 col6\" >0.406240</td>\n      <td id=\"T_6bbb1_row3_col7\" class=\"data row3 col7\" >0.000020</td>\n      <td id=\"T_6bbb1_row3_col8\" class=\"data row3 col8\" >180.944430</td>\n      <td id=\"T_6bbb1_row3_col9\" class=\"data row3 col9\" >286.276060</td>\n      <td id=\"T_6bbb1_row3_col10\" class=\"data row3 col10\" >230.248990</td>\n      <td id=\"T_6bbb1_row3_col11\" class=\"data row3 col11\" >1983.481000</td>\n      <td id=\"T_6bbb1_row3_col12\" class=\"data row3 col12\" >0.583910</td>\n      <td id=\"T_6bbb1_row3_col13\" class=\"data row3 col13\" >0.701740</td>\n      <td id=\"T_6bbb1_row3_col14\" class=\"data row3 col14\" >0.635240</td>\n      <td id=\"T_6bbb1_row3_col15\" class=\"data row3 col15\" >0.001780</td>\n      <td id=\"T_6bbb1_row3_col16\" class=\"data row3 col16\" >0.623800</td>\n      <td id=\"T_6bbb1_row3_col17\" class=\"data row3 col17\" >0.749770</td>\n      <td id=\"T_6bbb1_row3_col18\" class=\"data row3 col18\" >0.682540</td>\n      <td id=\"T_6bbb1_row3_col19\" class=\"data row3 col19\" >0.001760</td>\n      <td id=\"T_6bbb1_row3_col20\" class=\"data row3 col20\" >0.009800</td>\n      <td id=\"T_6bbb1_row3_col21\" class=\"data row3 col21\" >0.253160</td>\n      <td id=\"T_6bbb1_row3_col22\" class=\"data row3 col22\" >0.040150</td>\n      <td id=\"T_6bbb1_row3_col23\" class=\"data row3 col23\" >0.005120</td>\n    </tr>\n    <tr>\n      <th id=\"T_6bbb1_level0_row4\" class=\"row_heading level0 row4\" >KMeans</th>\n      <td id=\"T_6bbb1_row4_col0\" class=\"data row4 col0\" >0.736930</td>\n      <td id=\"T_6bbb1_row4_col1\" class=\"data row4 col1\" >0.737820</td>\n      <td id=\"T_6bbb1_row4_col2\" class=\"data row4 col2\" >0.737320</td>\n      <td id=\"T_6bbb1_row4_col3\" class=\"data row4 col3\" >0.000000</td>\n      <td id=\"T_6bbb1_row4_col4\" class=\"data row4 col4\" >0.476540</td>\n      <td id=\"T_6bbb1_row4_col5\" class=\"data row4 col5\" >0.480210</td>\n      <td id=\"T_6bbb1_row4_col6\" class=\"data row4 col6\" >0.478400</td>\n      <td id=\"T_6bbb1_row4_col7\" class=\"data row4 col7\" >0.000000</td>\n      <td id=\"T_6bbb1_row4_col8\" class=\"data row4 col8\" >385.651720</td>\n      <td id=\"T_6bbb1_row4_col9\" class=\"data row4 col9\" >387.014330</td>\n      <td id=\"T_6bbb1_row4_col10\" class=\"data row4 col10\" >386.399350</td>\n      <td id=\"T_6bbb1_row4_col11\" class=\"data row4 col11\" >0.378510</td>\n      <td id=\"T_6bbb1_row4_col12\" class=\"data row4 col12\" >0.694930</td>\n      <td id=\"T_6bbb1_row4_col13\" class=\"data row4 col13\" >0.717600</td>\n      <td id=\"T_6bbb1_row4_col14\" class=\"data row4 col14\" >0.702620</td>\n      <td id=\"T_6bbb1_row4_col15\" class=\"data row4 col15\" >0.000060</td>\n      <td id=\"T_6bbb1_row4_col16\" class=\"data row4 col16\" >0.710340</td>\n      <td id=\"T_6bbb1_row4_col17\" class=\"data row4 col17\" >0.721080</td>\n      <td id=\"T_6bbb1_row4_col18\" class=\"data row4 col18\" >0.713660</td>\n      <td id=\"T_6bbb1_row4_col19\" class=\"data row4 col19\" >0.000010</td>\n      <td id=\"T_6bbb1_row4_col20\" class=\"data row4 col20\" >0.002560</td>\n      <td id=\"T_6bbb1_row4_col21\" class=\"data row4 col21\" >0.525590</td>\n      <td id=\"T_6bbb1_row4_col22\" class=\"data row4 col22\" >0.201670</td>\n      <td id=\"T_6bbb1_row4_col23\" class=\"data row4 col23\" >0.033700</td>\n    </tr>\n  </tbody>\n</table>\n"
     },
     "execution_count": 10,
     "metadata": {},
     "output_type": "execute_result"
    }
   ],
   "source": [
    "compareClustering.display_results()"
   ],
   "metadata": {
    "collapsed": false
   }
  },
  {
   "cell_type": "code",
   "execution_count": 11,
   "outputs": [
    {
     "name": "stdout",
     "output_type": "stream",
     "text": [
      "      mean_time\n",
      "nmf    0.374367\n",
      "mcla  11.815783\n",
      "hbgf   0.342786\n",
      "cspa   0.236382\n"
     ]
    }
   ],
   "source": [
    "compareClustering.display_time()"
   ],
   "metadata": {
    "collapsed": false
   }
  },
  {
   "cell_type": "code",
   "execution_count": 12,
   "outputs": [],
   "source": [
    "del compareClustering"
   ],
   "metadata": {
    "collapsed": false
   }
  },
  {
   "cell_type": "code",
   "execution_count": null,
   "outputs": [],
   "source": [],
   "metadata": {
    "collapsed": false
   }
  }
 ],
 "metadata": {
  "kernelspec": {
   "display_name": "Python 3",
   "language": "python",
   "name": "python3"
  },
  "language_info": {
   "codemirror_mode": {
    "name": "ipython",
    "version": 2
   },
   "file_extension": ".py",
   "mimetype": "text/x-python",
   "name": "python",
   "nbconvert_exporter": "python",
   "pygments_lexer": "ipython2",
   "version": "2.7.6"
  }
 },
 "nbformat": 4,
 "nbformat_minor": 0
}
