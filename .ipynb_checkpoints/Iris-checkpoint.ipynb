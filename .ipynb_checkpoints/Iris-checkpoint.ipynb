{
 "cells": [
  {
   "cell_type": "code",
   "execution_count": 1,
   "id": "7c3d7fe9",
   "metadata": {},
   "outputs": [],
   "source": [
    "from sklearn.datasets import load_iris\n",
    "from main_functions import *\n",
    "import time"
   ]
  },
  {
   "cell_type": "code",
   "execution_count": 2,
   "id": "a8e44bfe",
   "metadata": {},
   "outputs": [],
   "source": [
    "k_list = [3]\n",
    "itr_num = 100"
   ]
  },
  {
   "cell_type": "code",
   "execution_count": 3,
   "id": "46b7f0aa",
   "metadata": {},
   "outputs": [],
   "source": [
    "# Load the iris dataset\n",
    "start = time.time()\n",
    "iris=load_iris()\n",
    "data = iris.data\n",
    "target = iris.target\n",
    "# Create KMeans models for the iris dataset with 3 clusters and 10 iterations\n",
    "k_means_models = create_kmeans_models(k_list, itr_num, data)\n",
    "k_means_labels = get_labels_from_models(k_means_models)\n",
    "\n",
    "add_validation_results(data, target, k_means_labels, 'KMeans')"
   ]
  },
  {
   "cell_type": "code",
   "execution_count": null,
   "id": "819c8a4a",
   "metadata": {},
   "outputs": [],
   "source": [
    "# Create ensemble clustering ['NMF', 'CSPA', 'MCLA', 'HBGF'] using KMeans as base clustering\n",
    "perform_ensemble_clustering('KMeans', k_list, itr_num, data, target)\n",
    "end = time.time()\n",
    "print(end - start)"
   ]
  },
  {
   "cell_type": "code",
   "execution_count": null,
   "id": "f4f1853d",
   "metadata": {},
   "outputs": [],
   "source": [
    "single_km_df = get_df()"
   ]
  },
  {
   "cell_type": "code",
   "execution_count": null,
   "id": "04ceb149",
   "metadata": {},
   "outputs": [],
   "source": [
    "display_results(single_km_df)"
   ]
  },
  {
   "cell_type": "code",
   "execution_count": null,
   "id": "c7338014",
   "metadata": {
    "scrolled": true
   },
   "outputs": [],
   "source": [
    "single_k_time_dic = get_time_dic()"
   ]
  },
  {
   "cell_type": "code",
   "execution_count": null,
   "id": "2b6dccb6",
   "metadata": {},
   "outputs": [],
   "source": [
    "clear_results()"
   ]
  },
  {
   "cell_type": "code",
   "execution_count": null,
   "id": "ac4f2cee",
   "metadata": {},
   "outputs": [],
   "source": [
    "k_list = [2, 3, 4]\n",
    "itr_num = 35"
   ]
  },
  {
   "cell_type": "code",
   "execution_count": null,
   "id": "c94795c9",
   "metadata": {},
   "outputs": [],
   "source": [
    "# Create KMeans models for the iris dataset with [2, 3, 4] clusters and 35 iterations for each k\n",
    "start = time.time()\n",
    "k_means_models = create_kmeans_models(k_list, itr_num, data)\n",
    "k_means_labels = get_labels_from_models(k_means_models)\n",
    "\n",
    "add_validation_results(data, target, k_means_labels, 'KMeans')"
   ]
  },
  {
   "cell_type": "code",
   "execution_count": null,
   "id": "7ecce58b",
   "metadata": {},
   "outputs": [],
   "source": [
    "# Create ensemble clustering ['NMF', 'CSPA', 'MCLA', 'HBGF'] using KMeans as base clustering\n",
    "perform_ensemble_clustering('KMeans', k_list, itr_num, data, target)\n",
    "end = time.time()\n",
    "print(end - start)"
   ]
  },
  {
   "cell_type": "code",
   "execution_count": null,
   "id": "04461b7e",
   "metadata": {},
   "outputs": [],
   "source": [
    "multi_km_df = get_df()\n",
    "display_results(multi_km_df)"
   ]
  },
  {
   "cell_type": "code",
   "execution_count": null,
   "id": "38d21c8c",
   "metadata": {},
   "outputs": [],
   "source": [
    "multi_k_time_dic = get_time_dic()\n",
    "clear_results()"
   ]
  },
  {
   "cell_type": "code",
   "execution_count": null,
   "id": "6a273eb3",
   "metadata": {},
   "outputs": [],
   "source": [
    "# Create SpectralClustering models for the iris dataset with 3 clusters and 10 iterations\n",
    "spectral_models = create_spectral_clustering_models(k_list, itr_num, data)\n",
    "spectral_labels = get_labels_from_models(spectral_models)\n",
    "\n",
    "add_validation_results(data, target, spectral_labels, 'Spectral')"
   ]
  },
  {
   "cell_type": "code",
   "execution_count": null,
   "id": "4b0d2440",
   "metadata": {},
   "outputs": [],
   "source": [
    "perform_ensemble_clustering('Spectral', k_list, itr_num, data, target)\n",
    "multi_sp_df = get_df()\n",
    "multi_sp_time_dic = get_time_dic()\n",
    "clear_results()"
   ]
  },
  {
   "cell_type": "code",
   "execution_count": null,
   "id": "5d77cb29",
   "metadata": {},
   "outputs": [],
   "source": [
    "single_k_time_dic"
   ]
  },
  {
   "cell_type": "code",
   "execution_count": null,
   "id": "ff625bd7",
   "metadata": {},
   "outputs": [],
   "source": []
  }
 ],
 "metadata": {
  "kernelspec": {
   "display_name": "Python 3",
   "language": "python",
   "name": "python3"
  },
  "language_info": {
   "codemirror_mode": {
    "name": "ipython",
    "version": 3
   },
   "file_extension": ".py",
   "mimetype": "text/x-python",
   "name": "python",
   "nbconvert_exporter": "python",
   "pygments_lexer": "ipython3",
   "version": "3.9.2"
  }
 },
 "nbformat": 4,
 "nbformat_minor": 5
}
