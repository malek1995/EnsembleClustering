{
 "cells": [
  {
   "cell_type": "code",
   "execution_count": 1,
   "id": "1fdc1b56",
   "metadata": {},
   "outputs": [],
   "source": [
    "from sklearn.cluster import KMeans\n",
    "from main_functions import *"
   ]
  },
  {
   "cell_type": "code",
   "execution_count": 2,
   "id": "e92b408b",
   "metadata": {},
   "outputs": [],
   "source": [
    "X_train = read_idx(\"t10k-images.idx3-ubyte\")\n",
    "target = read_idx(\"t10k-labels.idx1-ubyte\")\n",
    "data = X_train.reshape(-1, 784)\n",
    "k_list = [10]\n",
    "itr_num = 10"
   ]
  },
  {
   "cell_type": "code",
   "execution_count": 3,
   "id": "8f4bdc15",
   "metadata": {},
   "outputs": [],
   "source": [
    "# Create KMeans models for the mnist dataset with 3 clusters and 10 iterations\n",
    "k_means_models = create_kmeans_models(k_list, itr_num, data)\n",
    "k_means_labels = get_labels_from_models(k_means_models)\n",
    "\n",
    "add_validation_results(data, target, k_means_labels, 'KMeans')"
   ]
  },
  {
   "cell_type": "code",
   "execution_count": 4,
   "id": "3be067b7",
   "metadata": {},
   "outputs": [
    {
     "name": "stderr",
     "output_type": "stream",
     "text": [
      "/automnt/stud/malsalamat/ClusterEnsembles.py:348: UserWarning: `base_clusters.shape[1]` is too large, so the use of another solvers is recommended.\n",
      "  warnings.warn(\n",
      "/automnt/stud/malsalamat/ClusterEnsembles.py:348: UserWarning: `base_clusters.shape[1]` is too large, so the use of another solvers is recommended.\n",
      "  warnings.warn(\n",
      "/automnt/stud/malsalamat/ClusterEnsembles.py:348: UserWarning: `base_clusters.shape[1]` is too large, so the use of another solvers is recommended.\n",
      "  warnings.warn(\n",
      "/automnt/stud/malsalamat/ClusterEnsembles.py:348: UserWarning: `base_clusters.shape[1]` is too large, so the use of another solvers is recommended.\n",
      "  warnings.warn(\n",
      "/automnt/stud/malsalamat/ClusterEnsembles.py:348: UserWarning: `base_clusters.shape[1]` is too large, so the use of another solvers is recommended.\n",
      "  warnings.warn(\n",
      "/automnt/stud/malsalamat/ClusterEnsembles.py:348: UserWarning: `base_clusters.shape[1]` is too large, so the use of another solvers is recommended.\n",
      "  warnings.warn(\n",
      "/automnt/stud/malsalamat/ClusterEnsembles.py:348: UserWarning: `base_clusters.shape[1]` is too large, so the use of another solvers is recommended.\n",
      "  warnings.warn(\n",
      "/automnt/stud/malsalamat/ClusterEnsembles.py:348: UserWarning: `base_clusters.shape[1]` is too large, so the use of another solvers is recommended.\n",
      "  warnings.warn(\n",
      "/automnt/stud/malsalamat/ClusterEnsembles.py:348: UserWarning: `base_clusters.shape[1]` is too large, so the use of another solvers is recommended.\n",
      "  warnings.warn(\n",
      "/automnt/stud/malsalamat/ClusterEnsembles.py:348: UserWarning: `base_clusters.shape[1]` is too large, so the use of another solvers is recommended.\n",
      "  warnings.warn(\n"
     ]
    }
   ],
   "source": [
    "# Create ensemble clustering ['NMF', 'CSPA', 'MCLA', 'HBGF'] using KMeans as base clustering\n",
    "perform_ensemble_clustering('KMeans', k_list, itr_num, data, target)"
   ]
  },
  {
   "cell_type": "code",
   "execution_count": 5,
   "id": "0e9e3c46",
   "metadata": {},
   "outputs": [
    {
     "ename": "NameError",
     "evalue": "name 'dispaly_results' is not defined",
     "output_type": "error",
     "traceback": [
      "\u001b[0;31m---------------------------------------------------------------------------\u001b[0m",
      "\u001b[0;31mNameError\u001b[0m                                 Traceback (most recent call last)",
      "\u001b[0;32m<ipython-input-5-1a17c0607181>\u001b[0m in \u001b[0;36m<module>\u001b[0;34m\u001b[0m\n\u001b[0;32m----> 1\u001b[0;31m \u001b[0mdispaly_results\u001b[0m\u001b[0;34m(\u001b[0m\u001b[0;34m)\u001b[0m\u001b[0;34m\u001b[0m\u001b[0;34m\u001b[0m\u001b[0m\n\u001b[0m",
      "\u001b[0;31mNameError\u001b[0m: name 'dispaly_results' is not defined"
     ]
    }
   ],
   "source": [
    "dispaly_results()"
   ]
  },
  {
   "cell_type": "code",
   "execution_count": null,
   "id": "064f4ce7",
   "metadata": {},
   "outputs": [],
   "source": [
    "clear_results()"
   ]
  },
  {
   "cell_type": "code",
   "execution_count": null,
   "id": "c631effc",
   "metadata": {},
   "outputs": [],
   "source": []
  },
  {
   "cell_type": "code",
   "execution_count": null,
   "id": "624a2c30",
   "metadata": {},
   "outputs": [],
   "source": []
  }
 ],
 "metadata": {
  "kernelspec": {
   "display_name": "Python 3",
   "language": "python",
   "name": "python3"
  },
  "language_info": {
   "codemirror_mode": {
    "name": "ipython",
    "version": 3
   },
   "file_extension": ".py",
   "mimetype": "text/x-python",
   "name": "python",
   "nbconvert_exporter": "python",
   "pygments_lexer": "ipython3",
   "version": "3.9.2"
  }
 },
 "nbformat": 4,
 "nbformat_minor": 5
}
