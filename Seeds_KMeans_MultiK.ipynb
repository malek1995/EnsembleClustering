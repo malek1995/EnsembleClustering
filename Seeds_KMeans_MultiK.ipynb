{
 "cells": [
  {
   "cell_type": "code",
   "execution_count": null,
   "id": "784ee711",
   "metadata": {},
   "outputs": [],
   "source": [
    "import numpy as np\n",
    "import pandas as pd\n",
    "import time"
   ]
  },
  {
   "cell_type": "code",
   "execution_count": null,
   "id": "f2b05a4b",
   "metadata": {},
   "outputs": [],
   "source": [
    "df = pd.read_csv('seeds_dataset.txt', sep= '\\t', header= None,\n",
    "                 names=['area','perimeter','compactness','lengthOfKernel','widthOfKernel','asymmetryCoefficient',\n",
    "                        'lengthOfKernelGroove','seedType'])\n",
    "df.head()"
   ]
  },
  {
   "cell_type": "code",
   "execution_count": null,
   "id": "39387963",
   "metadata": {},
   "outputs": [],
   "source": [
    "target = df['seedType']\n",
    "data = df.drop(columns=['seedType'])"
   ]
  },
  {
   "cell_type": "code",
   "execution_count": null,
   "id": "a7d52f5d",
   "metadata": {},
   "outputs": [],
   "source": [
    "k_list = [2, 3, 4]\n",
    "itr_num = 20"
   ]
  },
  {
   "cell_type": "code",
   "execution_count": null,
   "id": "d4de5c92",
   "metadata": {},
   "outputs": [],
   "source": [
    "# Create ensemble clustering ['NMF', 'CSPA', 'MCLA', 'HBGF'] using KMeans as base clustering\n",
    "start = time.time()\n",
    "compareClustring.perform_ensemble_clustering('KMeans', k_list, itr_num, data, target)\n",
    "end = time.time()\n",
    "print(end - start)"
   ]
  },
  {
   "cell_type": "code",
   "execution_count": null,
   "id": "ab0e3d82",
   "metadata": {},
   "outputs": [],
   "source": [
    "# Create KMeans models for the iris dataset with 3 clusters and 10 iterations\n",
    "k_means_models = create_kmeans_models_parallel(k_list, itr_num, data)\n",
    "k_means_labels = get_labels_from_models(k_means_models)\n",
    "\n",
    "compareClustring.add_validation_results(data, target, k_means_labels, 'KMeans')"
   ]
  },
  {
   "cell_type": "code",
   "execution_count": null,
   "id": "7175be48",
   "metadata": {},
   "outputs": [],
   "source": [
    "single_km_df = compareClustring.df\n",
    "time_dic = compareClustring.time_dic"
   ]
  },
  {
   "cell_type": "code",
   "execution_count": null,
   "id": "9ea68207",
   "metadata": {},
   "outputs": [],
   "source": [
    "# save the information in Excle file\n",
    "single_km_df.to_csv('Seeds_Results/kmeans_234_itr_20_seeds.csv', index=False)"
   ]
  },
  {
   "cell_type": "code",
   "execution_count": null,
   "id": "df151a36",
   "metadata": {},
   "outputs": [],
   "source": [
    "df = pd.DataFrame.from_dict(time_dic)\n",
    "df.to_csv('Seeds_Results/Time_kmeans_234_itr_20_seeds.csv', index= False)"
   ]
  },
  {
   "cell_type": "code",
   "execution_count": null,
   "id": "2c449378",
   "metadata": {},
   "outputs": [],
   "source": [
    "compareClustring.display_results()"
   ]
  },
  {
   "cell_type": "code",
   "execution_count": null,
   "id": "373264b4",
   "metadata": {},
   "outputs": [],
   "source": [
    "compareClustring.display_time()"
   ]
  },
  {
   "cell_type": "code",
   "execution_count": null,
   "id": "558b571a",
   "metadata": {},
   "outputs": [],
   "source": [
    "del compareClustring"
   ]
  }
 ],
 "metadata": {
  "kernelspec": {
   "display_name": "Python 3",
   "language": "python",
   "name": "python3"
  },
  "language_info": {
   "codemirror_mode": {
    "name": "ipython",
    "version": 3
   },
   "file_extension": ".py",
   "mimetype": "text/x-python",
   "name": "python",
   "nbconvert_exporter": "python",
   "pygments_lexer": "ipython3",
   "version": "3.9.2"
  }
 },
 "nbformat": 4,
 "nbformat_minor": 5
}
