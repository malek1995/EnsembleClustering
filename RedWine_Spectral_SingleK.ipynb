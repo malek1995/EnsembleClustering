{
 "cells": [
  {
   "cell_type": "code",
   "execution_count": 8,
   "metadata": {
    "collapsed": true
   },
   "outputs": [
    {
     "name": "stdout",
     "output_type": "stream",
     "text": [
      "Index(['fixed acidity', 'volatile acidity', 'citric acid', 'residual sugar',\n",
      "       'chlorides', 'free sulfur dioxide', 'total sulfur dioxide', 'density',\n",
      "       'pH', 'sulphates', 'alcohol', 'quality'],\n",
      "      dtype='object')\n"
     ]
    }
   ],
   "source": [
    "import pandas as pd\n",
    "from parallel_functions import *\n",
    "import time\n",
    "# Load the dataset\n",
    "df = pd.read_csv('winequality-red.csv', delimiter=';')\n",
    "print(df.columns)\n",
    "# Separate the data and the target variable\n",
    "target = df['quality'] # target\n",
    "data = df.drop('quality', axis=1) # data\n"
   ]
  },
  {
   "cell_type": "code",
   "execution_count": 9,
   "outputs": [],
   "source": [
    "k_list = [10]\n",
    "itr_num = 7\n",
    "compareClustering = CompareClustering()"
   ],
   "metadata": {
    "collapsed": false
   }
  },
  {
   "cell_type": "code",
   "execution_count": null,
   "outputs": [
    {
     "name": "stdout",
     "output_type": "stream",
     "text": [
      "NMF is running\n"
     ]
    },
    {
     "name": "stderr",
     "output_type": "stream",
     "text": [
      "/home/malek/.local/lib/python3.10/site-packages/sklearn/manifold/_spectral_embedding.py:274: UserWarning: Graph is not fully connected, spectral embedding may not work as expected.\n",
      "  warnings.warn(\n",
      "/home/malek/.local/lib/python3.10/site-packages/sklearn/manifold/_spectral_embedding.py:274: UserWarning: Graph is not fully connected, spectral embedding may not work as expected.\n",
      "  warnings.warn(\n",
      "/home/malek/.local/lib/python3.10/site-packages/sklearn/manifold/_spectral_embedding.py:274: UserWarning: Graph is not fully connected, spectral embedding may not work as expected.\n",
      "  warnings.warn(\n",
      "/home/malek/.local/lib/python3.10/site-packages/sklearn/manifold/_spectral_embedding.py:274: UserWarning: Graph is not fully connected, spectral embedding may not work as expected.\n",
      "  warnings.warn(\n",
      "/home/malek/.local/lib/python3.10/site-packages/sklearn/manifold/_spectral_embedding.py:274: UserWarning: Graph is not fully connected, spectral embedding may not work as expected.\n",
      "  warnings.warn(\n",
      "/home/malek/.local/lib/python3.10/site-packages/sklearn/manifold/_spectral_embedding.py:274: UserWarning: Graph is not fully connected, spectral embedding may not work as expected.\n",
      "  warnings.warn(\n",
      "/home/malek/.local/lib/python3.10/site-packages/sklearn/manifold/_spectral_embedding.py:393: UserWarning: Exited at iteration 447 with accuracies \n",
      "[1.67015162e-14 4.83754464e-05 4.99348340e-05 3.63024512e-05\n",
      " 4.41554445e-05 4.99721418e-05 5.37791317e-05 4.15453251e-05\n",
      " 6.44743328e-05 5.11676992e-05 4.78608579e-05]\n",
      "not reaching the requested tolerance 5.056481978609238e-05.\n",
      "  _, diffusion_map = lobpcg(\n",
      "/home/malek/.local/lib/python3.10/site-packages/sklearn/manifold/_spectral_embedding.py:274: UserWarning: Graph is not fully connected, spectral embedding may not work as expected.\n",
      "  warnings.warn(\n",
      "/home/malek/.local/lib/python3.10/site-packages/sklearn/manifold/_spectral_embedding.py:393: UserWarning: Exited at iteration 447 with accuracies \n",
      "[1.67015162e-14 4.83754464e-05 4.99348340e-05 3.63024512e-05\n",
      " 4.41554445e-05 4.99721418e-05 5.37791317e-05 4.15453251e-05\n",
      " 6.44743328e-05 5.11676992e-05 4.78608579e-05]\n",
      "not reaching the requested tolerance 5.056481978609238e-05.\n",
      "  _, diffusion_map = lobpcg(\n",
      "/home/malek/.local/lib/python3.10/site-packages/sklearn/manifold/_spectral_embedding.py:274: UserWarning: Graph is not fully connected, spectral embedding may not work as expected.\n",
      "  warnings.warn(\n",
      "/home/malek/.local/lib/python3.10/site-packages/sklearn/manifold/_spectral_embedding.py:393: UserWarning: Exited at iteration 447 with accuracies \n",
      "[1.67015162e-14 4.83754464e-05 4.99348340e-05 3.63024512e-05\n",
      " 4.41554445e-05 4.99721418e-05 5.37791317e-05 4.15453251e-05\n",
      " 6.44743328e-05 5.11676992e-05 4.78608579e-05]\n",
      "not reaching the requested tolerance 5.056481978609238e-05.\n",
      "  _, diffusion_map = lobpcg(\n",
      "/home/malek/.local/lib/python3.10/site-packages/sklearn/manifold/_spectral_embedding.py:274: UserWarning: Graph is not fully connected, spectral embedding may not work as expected.\n",
      "  warnings.warn(\n",
      "/home/malek/.local/lib/python3.10/site-packages/sklearn/manifold/_spectral_embedding.py:393: UserWarning: Exited at iteration 447 with accuracies \n",
      "[1.67015162e-14 4.83754464e-05 4.99348340e-05 3.63024512e-05\n",
      " 4.41554445e-05 4.99721418e-05 5.37791317e-05 4.15453251e-05\n",
      " 6.44743328e-05 5.11676992e-05 4.78608579e-05]\n",
      "not reaching the requested tolerance 5.056481978609238e-05.\n",
      "  _, diffusion_map = lobpcg(\n",
      "/home/malek/.local/lib/python3.10/site-packages/sklearn/manifold/_spectral_embedding.py:274: UserWarning: Graph is not fully connected, spectral embedding may not work as expected.\n",
      "  warnings.warn(\n",
      "/home/malek/.local/lib/python3.10/site-packages/sklearn/manifold/_spectral_embedding.py:393: UserWarning: Exited at iteration 447 with accuracies \n",
      "[1.67015162e-14 4.83754464e-05 4.99348340e-05 3.63024512e-05\n",
      " 4.41554445e-05 4.99721418e-05 5.37791317e-05 4.15453251e-05\n",
      " 6.44743328e-05 5.11676992e-05 4.78608579e-05]\n",
      "not reaching the requested tolerance 5.056481978609238e-05.\n",
      "  _, diffusion_map = lobpcg(\n",
      "/home/malek/.local/lib/python3.10/site-packages/sklearn/manifold/_spectral_embedding.py:274: UserWarning: Graph is not fully connected, spectral embedding may not work as expected.\n",
      "  warnings.warn(\n",
      "/home/malek/.local/lib/python3.10/site-packages/sklearn/manifold/_spectral_embedding.py:393: UserWarning: Exited at iteration 447 with accuracies \n",
      "[1.67015162e-14 4.83754464e-05 4.99348340e-05 3.63024512e-05\n",
      " 4.41554445e-05 4.99721418e-05 5.37791317e-05 4.15453251e-05\n",
      " 6.44743328e-05 5.11676992e-05 4.78608579e-05]\n",
      "not reaching the requested tolerance 5.056481978609238e-05.\n",
      "  _, diffusion_map = lobpcg(\n",
      "/home/malek/.local/lib/python3.10/site-packages/sklearn/manifold/_spectral_embedding.py:274: UserWarning: Graph is not fully connected, spectral embedding may not work as expected.\n",
      "  warnings.warn(\n",
      "/home/malek/.local/lib/python3.10/site-packages/sklearn/manifold/_spectral_embedding.py:393: UserWarning: Exited at iteration 434 with accuracies \n",
      "[1.68433755e-14 2.48467644e-05 5.74007198e-05 4.88120130e-05\n",
      " 3.39923183e-05 5.32936200e-05 4.42905570e-05 5.01737646e-05\n",
      " 7.35142827e-05 4.90141328e-05 4.71697710e-05]\n",
      "not reaching the requested tolerance 5.056481978609238e-05.\n",
      "  _, diffusion_map = lobpcg(\n",
      "/home/malek/.local/lib/python3.10/site-packages/sklearn/manifold/_spectral_embedding.py:274: UserWarning: Graph is not fully connected, spectral embedding may not work as expected.\n",
      "  warnings.warn(\n"
     ]
    }
   ],
   "source": [
    "start = time.time()\n",
    "compareClustering.perform_single_ensemble_clustering('Spectral', k_list, itr_num, data, target, 'NMF')\n",
    "end = time.time()\n",
    "print(end - start)"
   ],
   "metadata": {
    "collapsed": false,
    "pycharm": {
     "is_executing": true
    }
   }
  }
 ],
 "metadata": {
  "kernelspec": {
   "display_name": "Python 3",
   "language": "python",
   "name": "python3"
  },
  "language_info": {
   "codemirror_mode": {
    "name": "ipython",
    "version": 2
   },
   "file_extension": ".py",
   "mimetype": "text/x-python",
   "name": "python",
   "nbconvert_exporter": "python",
   "pygments_lexer": "ipython2",
   "version": "2.7.6"
  }
 },
 "nbformat": 4,
 "nbformat_minor": 0
}
