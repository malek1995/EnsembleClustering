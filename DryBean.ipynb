{
 "cells": [
  {
   "cell_type": "code",
   "execution_count": 1,
   "id": "514a661b",
   "metadata": {},
   "outputs": [],
   "source": [
    "import pandas as pd\n",
    "from sklearn.cluster import KMeans\n",
    "from sklearn.preprocessing import LabelEncoder\n",
    "from main_functions import *"
   ]
  },
  {
   "cell_type": "code",
   "execution_count": 2,
   "id": "9ff0acd4",
   "metadata": {},
   "outputs": [],
   "source": [
    "# Load the ARFF file into a pandas DataFrame\n",
    "df = pd.read_excel(\"Dry_Bean_Dataset.xlsx\")\n",
    "# Create the LabelEncoder object\n",
    "le = LabelEncoder()"
   ]
  },
  {
   "cell_type": "code",
   "execution_count": 3,
   "id": "011aa9ce",
   "metadata": {},
   "outputs": [],
   "source": [
    "# Split the data into features (X) and target (y)\n",
    "data = df.iloc[:, :-1].values\n",
    "y = df.iloc[:, -1]\n",
    "# Fit and transform the target values\n",
    "target = le.fit_transform(y)"
   ]
  },
  {
   "cell_type": "code",
   "execution_count": 4,
   "id": "27251620",
   "metadata": {},
   "outputs": [],
   "source": [
    "k_list = [7]\n",
    "itr_num = 10"
   ]
  },
  {
   "cell_type": "code",
   "execution_count": 5,
   "id": "c5f49922",
   "metadata": {},
   "outputs": [],
   "source": [
    "# Create KMeans models for the mnist dataset with 3 clusters and 10 iterations\n",
    "k_means_models = create_kmeans_models(k_list, itr_num, data)\n",
    "k_means_labels = get_labels_from_models(k_means_models)\n",
    "\n",
    "add_validation_results(data, target, k_means_labels, 'KMeans')"
   ]
  },
  {
   "cell_type": "code",
   "execution_count": 6,
   "id": "fd28831b",
   "metadata": {},
   "outputs": [
    {
     "name": "stderr",
     "output_type": "stream",
     "text": [
      "/automnt/stud/malsalamat/ClusterEnsembles.py:348: UserWarning: `base_clusters.shape[1]` is too large, so the use of another solvers is recommended.\n",
      "  warnings.warn(\n",
      "/automnt/stud/malsalamat/ClusterEnsembles.py:348: UserWarning: `base_clusters.shape[1]` is too large, so the use of another solvers is recommended.\n",
      "  warnings.warn(\n",
      "/automnt/stud/malsalamat/ClusterEnsembles.py:348: UserWarning: `base_clusters.shape[1]` is too large, so the use of another solvers is recommended.\n",
      "  warnings.warn(\n",
      "/automnt/stud/malsalamat/ClusterEnsembles.py:348: UserWarning: `base_clusters.shape[1]` is too large, so the use of another solvers is recommended.\n",
      "  warnings.warn(\n",
      "/automnt/stud/malsalamat/ClusterEnsembles.py:348: UserWarning: `base_clusters.shape[1]` is too large, so the use of another solvers is recommended.\n",
      "  warnings.warn(\n",
      "/automnt/stud/malsalamat/ClusterEnsembles.py:348: UserWarning: `base_clusters.shape[1]` is too large, so the use of another solvers is recommended.\n",
      "  warnings.warn(\n",
      "/automnt/stud/malsalamat/ClusterEnsembles.py:348: UserWarning: `base_clusters.shape[1]` is too large, so the use of another solvers is recommended.\n",
      "  warnings.warn(\n",
      "/automnt/stud/malsalamat/ClusterEnsembles.py:348: UserWarning: `base_clusters.shape[1]` is too large, so the use of another solvers is recommended.\n",
      "  warnings.warn(\n",
      "/automnt/stud/malsalamat/ClusterEnsembles.py:348: UserWarning: `base_clusters.shape[1]` is too large, so the use of another solvers is recommended.\n",
      "  warnings.warn(\n",
      "/automnt/stud/malsalamat/ClusterEnsembles.py:348: UserWarning: `base_clusters.shape[1]` is too large, so the use of another solvers is recommended.\n",
      "  warnings.warn(\n"
     ]
    }
   ],
   "source": [
    "# Create ensemble clustering ['NMF', 'CSPA', 'MCLA', 'HBGF'] using KMeans as base clustering\n",
    "perform_ensemble_clustering('KMeans', k_list, itr_num, data, target)"
   ]
  },
  {
   "cell_type": "code",
   "execution_count": 7,
   "id": "a32c19af",
   "metadata": {},
   "outputs": [],
   "source": [
    "km_df = get_df()\n",
    "km_df.to_csv('kmSingleKTenItr_Bean.csv', index = True)"
   ]
  },
  {
   "cell_type": "code",
   "execution_count": 8,
   "id": "de6c09c2",
   "metadata": {},
   "outputs": [],
   "source": [
    "clear_results()"
   ]
  },
  {
   "cell_type": "code",
   "execution_count": null,
   "id": "33acda7a",
   "metadata": {
    "scrolled": true
   },
   "outputs": [
    {
     "name": "stderr",
     "output_type": "stream",
     "text": [
      "/usr/lib/python3/dist-packages/sklearn/manifold/_spectral_embedding.py:236: UserWarning: Graph is not fully connected, spectral embedding may not work as expected.\n",
      "  warnings.warn(\"Graph is not fully connected, spectral embedding\"\n",
      "/usr/lib/python3/dist-packages/sklearn/cluster/_spectral.py:100: RuntimeWarning: invalid value encountered in true_divide\n",
      "  vectors = vectors / np.sqrt((vectors ** 2).sum(axis=1))[:, np.newaxis]\n",
      "/usr/lib/python3/dist-packages/sklearn/manifold/_spectral_embedding.py:236: UserWarning: Graph is not fully connected, spectral embedding may not work as expected.\n",
      "  warnings.warn(\"Graph is not fully connected, spectral embedding\"\n",
      "/usr/lib/python3/dist-packages/sklearn/cluster/_spectral.py:100: RuntimeWarning: invalid value encountered in true_divide\n",
      "  vectors = vectors / np.sqrt((vectors ** 2).sum(axis=1))[:, np.newaxis]\n"
     ]
    }
   ],
   "source": [
    "# Create SpectralClustering models for the iris dataset with 3 clusters and 10 iterations\n",
    "spectral_models = create_spectral_clustering_models(k_list, itr_num, data)\n",
    "spectral_labels = get_labels_from_models(spectral_models)\n",
    "\n",
    "add_validation_results(data, target, spectral_labels, 'Spectral')"
   ]
  },
  {
   "cell_type": "code",
   "execution_count": null,
   "id": "6a8365da",
   "metadata": {},
   "outputs": [],
   "source": [
    "# Create ensemble clustering ['NMF', 'CSPA', 'MCLA', 'HBGF'] using spectral as base clustering\n",
    "perform_ensemble_clustering('Spectral', k_list, itr_num, data, target)"
   ]
  },
  {
   "cell_type": "code",
   "execution_count": null,
   "id": "0c8d6229",
   "metadata": {},
   "outputs": [],
   "source": [
    "sp_df = get_df()\n",
    "sp_df.to_csv('spSingleKTenItr_Bean.csv', index = True)"
   ]
  },
  {
   "cell_type": "code",
   "execution_count": null,
   "id": "efcb1bef",
   "metadata": {},
   "outputs": [],
   "source": [
    "clear_results()"
   ]
  },
  {
   "cell_type": "code",
   "execution_count": null,
   "id": "6cc86e76",
   "metadata": {},
   "outputs": [],
   "source": [
    "k_list = [5, 6, 7, 8, 9]\n",
    "# Create KMeans models for the iris dataset with [5, 6, 7, 8, 9] clusters and 10 iterations\n",
    "k_means_models = create_kmeans_models(k_list, itr_num, data)\n",
    "k_means_labels = get_labels_from_models(k_means_models)\n",
    "\n",
    "add_validation_results(data, target, k_means_labels, 'KMeans')"
   ]
  },
  {
   "cell_type": "code",
   "execution_count": null,
   "id": "0b01155f",
   "metadata": {},
   "outputs": [],
   "source": [
    "# Create ensemble clustering ['NMF', 'CSPA', 'MCLA', 'HBGF'] using KMeans as base clustering\n",
    "perform_ensemble_clustering('KMeans', k_list, itr_num, data, target)\n",
    "multi_km_df = get_df()\n",
    "multi_km_df.to_csv('kmMultiK_56789_Itr_10_Bean.csv', index = True)"
   ]
  },
  {
   "cell_type": "code",
   "execution_count": null,
   "id": "f8a50afb",
   "metadata": {},
   "outputs": [],
   "source": [
    "clear_results()"
   ]
  },
  {
   "cell_type": "code",
   "execution_count": null,
   "id": "bf19f94d",
   "metadata": {},
   "outputs": [],
   "source": [
    "# Create SpectralClustering models for the iris dataset with 3 clusters and 10 iterations\n",
    "spectral_models = create_spectral_clustering_models(k_list, itr_num, data)\n",
    "spectral_labels = get_labels_from_models(spectral_models)\n",
    "\n",
    "add_validation_results(data, target, spectral_labels, 'Spectral')"
   ]
  },
  {
   "cell_type": "code",
   "execution_count": null,
   "id": "61ce60af",
   "metadata": {},
   "outputs": [],
   "source": [
    "# Create ensemble clustering ['NMF', 'CSPA', 'MCLA', 'HBGF'] using spectral as base clustering\n",
    "perform_ensemble_clustering('Spectral', k_list, itr_num, data, target)\n",
    "multi_sp_df = get_df()\n",
    "multi_sp_df.to_csv('spMultiK_56789_Itr_10_Bean.csv', index = True)"
   ]
  },
  {
   "cell_type": "code",
   "execution_count": null,
   "id": "e5fb96d9",
   "metadata": {},
   "outputs": [],
   "source": [
    "clear_results()"
   ]
  }
 ],
 "metadata": {
  "kernelspec": {
   "display_name": "Python 3",
   "language": "python",
   "name": "python3"
  },
  "language_info": {
   "codemirror_mode": {
    "name": "ipython",
    "version": 3
   },
   "file_extension": ".py",
   "mimetype": "text/x-python",
   "name": "python",
   "nbconvert_exporter": "python",
   "pygments_lexer": "ipython3",
   "version": "3.9.2"
  }
 },
 "nbformat": 4,
 "nbformat_minor": 5
}
