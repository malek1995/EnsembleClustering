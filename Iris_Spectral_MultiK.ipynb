{
 "cells": [
  {
   "cell_type": "code",
   "execution_count": 1,
   "id": "7872c151",
   "metadata": {},
   "outputs": [],
   "source": [
    "from sklearn.datasets import load_iris\n",
    "from parallel_functions import *\n",
    "import time"
   ]
  },
  {
   "cell_type": "code",
   "execution_count": 2,
   "id": "b96bae72",
   "metadata": {},
   "outputs": [],
   "source": [
    "k_list = [2, 3, 4]\n",
    "itr_num = 20"
   ]
  },
  {
   "cell_type": "code",
   "execution_count": 3,
   "id": "7d643399",
   "metadata": {},
   "outputs": [
    {
     "data": {
      "text/plain": [
       "<parallel_functions.CompareClustering at 0x7f13ddd68c70>"
      ]
     },
     "execution_count": 3,
     "metadata": {},
     "output_type": "execute_result"
    }
   ],
   "source": [
    "# Load the iris dataset\n",
    "iris=load_iris()\n",
    "data = iris.data\n",
    "target = iris.target\n",
    "compareClustring = CompareClustering()\n",
    "compareClustring"
   ]
  },
  {
   "cell_type": "code",
   "execution_count": null,
   "id": "e093d55b",
   "metadata": {},
   "outputs": [
    {
     "name": "stdout",
     "output_type": "stream",
     "text": [
      "NMF is running\n",
      "CSPA is running\n"
     ]
    }
   ],
   "source": [
    "# Create ensemble clustering ['NMF', 'CSPA', 'MCLA', 'HBGF'] using Spectral as base clustering\n",
    "start = time.time()\n",
    "compareClustring.perform_ensemble_clustering('Spectral', k_list, itr_num, data, target)\n",
    "end = time.time()\n",
    "print(end - start)"
   ]
  },
  {
   "cell_type": "code",
   "execution_count": null,
   "id": "502ecd65",
   "metadata": {},
   "outputs": [],
   "source": [
    "# Create Spectral models for the iris dataset with 3 clusters and 100 iterations\n",
    "spectral_models = create_spectral_models_parallel(k_list, itr_num, data)\n",
    "spectral_labels = get_labels_from_models(spectral_models)\n",
    "\n",
    "compareClustring.add_validation_results(data, target, spectral_labels, 'Spectral')"
   ]
  },
  {
   "cell_type": "code",
   "execution_count": null,
   "id": "f4456f39",
   "metadata": {},
   "outputs": [],
   "source": [
    "sp_df = compareClustring.df\n",
    "time_dic = compareClustring.time_dic"
   ]
  },
  {
   "cell_type": "code",
   "execution_count": null,
   "id": "2a171f9d",
   "metadata": {},
   "outputs": [],
   "source": [
    "# save the information in Excle file\n",
    "sp_df.to_csv('Iris_Results/Spectral_234_itr_20_iris.csv', index=False)"
   ]
  },
  {
   "cell_type": "code",
   "execution_count": null,
   "id": "6c3b84f2",
   "metadata": {},
   "outputs": [],
   "source": [
    "# Save the taken time in Excle file\n",
    "df = pd.DataFrame.from_dict(time_dic)\n",
    "df.to_csv('Iris_Results/Time_Spectral_234_itr_20_iris.csv', index= False)"
   ]
  },
  {
   "cell_type": "code",
   "execution_count": null,
   "id": "97ff4e52",
   "metadata": {},
   "outputs": [],
   "source": [
    "compareClustring.display_results()"
   ]
  },
  {
   "cell_type": "code",
   "execution_count": null,
   "id": "68935131",
   "metadata": {},
   "outputs": [],
   "source": [
    "compareClustring.display_time()"
   ]
  },
  {
   "cell_type": "code",
   "execution_count": null,
   "id": "24ec8b84",
   "metadata": {},
   "outputs": [],
   "source": [
    "del compareClustring"
   ]
  }
 ],
 "metadata": {
  "kernelspec": {
   "display_name": "Python 3",
   "language": "python",
   "name": "python3"
  },
  "language_info": {
   "codemirror_mode": {
    "name": "ipython",
    "version": 3
   },
   "file_extension": ".py",
   "mimetype": "text/x-python",
   "name": "python",
   "nbconvert_exporter": "python",
   "pygments_lexer": "ipython3",
   "version": "3.9.2"
  }
 },
 "nbformat": 4,
 "nbformat_minor": 5
}
