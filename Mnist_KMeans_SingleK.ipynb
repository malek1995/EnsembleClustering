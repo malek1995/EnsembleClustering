{
 "cells": [
  {
   "cell_type": "code",
   "execution_count": 1,
   "id": "1fdc1b56",
   "metadata": {},
   "outputs": [],
   "source": [
    "from parallel_functions import *\n",
    "import time"
   ]
  },
  {
   "cell_type": "code",
   "execution_count": 2,
   "id": "e92b408b",
   "metadata": {},
   "outputs": [],
   "source": [
    "X_train = read_idx(\"t10k-images.idx3-ubyte\")\n",
    "target = read_idx(\"t10k-labels.idx1-ubyte\")\n",
    "data = X_train.reshape(-1, 784)\n",
    "k_list = [10]\n",
    "itr_num = 10\n",
    "compareClustring = CompareClustering()"
   ]
  },
  {
   "cell_type": "code",
   "execution_count": null,
   "id": "2ea08edf",
   "metadata": {},
   "outputs": [
    {
     "name": "stdout",
     "output_type": "stream",
     "text": [
      "NMF is running\n",
      "CSPA is running\n"
     ]
    }
   ],
   "source": [
    "# Create ensemble clustering ['NMF', 'CSPA', 'MCLA', 'HBGF'] using KMeans as base clustering\n",
    "start = time.time()\n",
    "compareClustring.perform_ensemble_clustering('KMeans', k_list, itr_num, data, target)\n",
    "end = time.time()\n",
    "print(end - start)"
   ]
  },
  {
   "cell_type": "code",
   "execution_count": null,
   "id": "8f4bdc15",
   "metadata": {},
   "outputs": [],
   "source": [
    "# Create KMeans models for the mnist dataset with 10 clusters and 10 iterations\n",
    "k_means_models = create_kmeans_models_parallel(k_list, itr_num, data)\n",
    "k_means_labels = get_labels_from_models(k_means_models)\n",
    "compareClustring.add_validation_results(data, target, k_means_labels, 'KMeans')"
   ]
  },
  {
   "cell_type": "code",
   "execution_count": null,
   "id": "3be067b7",
   "metadata": {},
   "outputs": [],
   "source": [
    "df = compareClustring.df\n",
    "time_dic = compareClustring.time_dic"
   ]
  },
  {
   "cell_type": "code",
   "execution_count": null,
   "id": "f8ff601c",
   "metadata": {},
   "outputs": [],
   "source": [
    "# save the information in Excle file\n",
    "df.to_csv('Mnist_Results/KMeans_10_itr_10_mnist.csv', index=False)"
   ]
  },
  {
   "cell_type": "code",
   "execution_count": null,
   "id": "ee2f4ec8",
   "metadata": {},
   "outputs": [],
   "source": [
    "time_df = pd.DataFrame.from_dict(time_dic)\n",
    "time_df.to_csv('Mnist_Results/Time_KMeans_10_itr_10_mnist.csv', index= False)"
   ]
  },
  {
   "cell_type": "code",
   "execution_count": null,
   "id": "0e9e3c46",
   "metadata": {},
   "outputs": [],
   "source": [
    "compareClustring.display_results()"
   ]
  },
  {
   "cell_type": "code",
   "execution_count": null,
   "id": "39c352ec",
   "metadata": {},
   "outputs": [],
   "source": [
    "compareClustring.display_time()"
   ]
  },
  {
   "cell_type": "code",
   "execution_count": null,
   "id": "624a2c30",
   "metadata": {},
   "outputs": [],
   "source": [
    "del compareClustring"
   ]
  },
  {
   "cell_type": "code",
   "execution_count": null,
   "id": "348694c6",
   "metadata": {},
   "outputs": [],
   "source": []
  }
 ],
 "metadata": {
  "kernelspec": {
   "display_name": "Python 3",
   "language": "python",
   "name": "python3"
  },
  "language_info": {
   "codemirror_mode": {
    "name": "ipython",
    "version": 3
   },
   "file_extension": ".py",
   "mimetype": "text/x-python",
   "name": "python",
   "nbconvert_exporter": "python",
   "pygments_lexer": "ipython3",
   "version": "3.9.2"
  }
 },
 "nbformat": 4,
 "nbformat_minor": 5
}
