{
 "cells": [
  {
   "cell_type": "code",
   "execution_count": 1,
   "id": "59154da6",
   "metadata": {},
   "outputs": [],
   "source": [
    "import numpy as np\n",
    "import pandas as pd\n",
    "import time\n",
    "from parallel_functions import *"
   ]
  },
  {
   "cell_type": "code",
   "execution_count": 2,
   "id": "927b0443",
   "metadata": {},
   "outputs": [],
   "source": [
    "df = pd.read_csv('seeds_dataset.txt', sep= '\\t', header= None,\n",
    "                 names=['area','perimeter','compactness','lengthOfKernel','widthOfKernel','asymmetryCoefficient',\n",
    "                        'lengthOfKernelGroove','seedType'])"
   ]
  },
  {
   "cell_type": "code",
   "execution_count": 3,
   "id": "88774bfd",
   "metadata": {},
   "outputs": [],
   "source": [
    "target = df['seedType']\n",
    "data = df.drop(columns=['seedType'])"
   ]
  },
  {
   "cell_type": "code",
   "execution_count": 4,
   "id": "1b1c6d1e",
   "metadata": {},
   "outputs": [],
   "source": [
    "k_list = [3]\n",
    "itr_num = 10\n",
    "compareClustring = CompareClustering()"
   ]
  },
  {
   "cell_type": "code",
   "execution_count": null,
   "id": "caf13258",
   "metadata": {},
   "outputs": [
    {
     "name": "stdout",
     "output_type": "stream",
     "text": [
      "CSPA is running\n",
      "Start with spectral_models for ensemble_input of cspa\n",
      "Start with spectral_models for ensemble_input of cspa\n",
      "Start with spectral_models for ensemble_input of cspaStart with spectral_models for ensemble_input of cspa\n",
      "\n",
      "Start with spectral_models for ensemble_input of cspa\n",
      "Start with spectral_models for ensemble_input of cspaStart with spectral_models for ensemble_input of cspaStart with spectral_models for ensemble_input of cspa\n",
      "\n",
      "\n",
      "Start with spectral_models for ensemble_input of cspa\n",
      "Start with spectral_models for ensemble_input of cspa\n",
      "Fit data is done\n",
      "Fit data is done\n",
      "Fit data is doneFit data is doneFit data is done\n",
      "Fit data is done\n",
      "Fit data is done\n",
      "\n",
      "\n",
      "Fit data is done\n",
      "Fit data is doneFit data is doneFit data is done\n",
      "\n",
      "Fit data is done\n",
      "\n",
      "Fit data is doneFit data is doneFit data is done\n",
      "\n",
      "Fit data is done\n",
      "\n",
      "Fit data is done\n",
      "Fit data is doneFit data is doneFit data is done\n",
      "\n",
      "Fit data is done\n",
      "\n",
      "Fit data is done\n",
      "Fit data is doneFit data is doneFit data is doneFit data is done\n",
      "\n",
      "\n",
      "\n",
      "Fit data is done\n",
      "Fit data is doneFit data is done\n",
      "\n",
      "Fit data is doneFit data is done\n",
      "\n",
      "Fit data is done\n",
      "Fit data is done\n",
      "Fit data is doneFit data is done\n",
      "\n",
      "Fit data is done\n",
      "Fit data is done\n",
      "Fit data is done\n",
      "Fit data is done\n",
      "Fit data is doneFit data is done\n",
      "\n",
      "Fit data is done\n",
      "Fit data is doneFit data is done\n",
      "Fit data is done\n",
      "\n",
      "Fit data is done\n",
      "Fit data is done\n",
      "Fit data is done\n",
      "Fit data is doneFit data is done\n",
      "\n",
      "Fit data is done\n",
      "Fit data is done\n",
      "Fit data is done\n",
      "Fit data is doneFit data is done\n",
      "\n",
      "Fit data is done\n",
      "Fit data is done\n",
      "Fit data is done\n",
      "Fit data is doneFit data is done\n",
      "\n",
      "Fit data is done\n",
      "Fit data is done\n",
      "Fit data is doneFit data is doneFit data is done\n",
      "\n",
      "\n",
      "Fit data is done\n",
      "Fit data is done\n",
      "Fit data is done\n",
      "Fit data is done\n",
      "Fit data is done\n",
      "Fit data is done\n",
      "Fit data is done\n",
      "Fit data is doneFit data is done\n",
      "\n",
      "Fit data is done\n",
      "Fit data is done\n",
      "Fit data is done\n",
      "Fit data is done\n",
      "Fit data is done\n",
      "Fit data is done\n",
      "Fit data is done\n",
      "Fit data is done\n",
      "Fit data is doneFit data is done\n",
      "\n",
      "Fit data is done\n",
      "Fit data is done\n",
      "Fit data is done\n",
      "Fit data is done\n",
      "Fit data is done\n",
      "Fit data is done\n",
      "spectral_clustering_models = [SpectralClustering(n_clusters=3), SpectralClustering(n_clusters=3), SpectralClustering(n_clusters=3), SpectralClustering(n_clusters=3), SpectralClustering(n_clusters=3), SpectralClustering(n_clusters=3), SpectralClustering(n_clusters=3), SpectralClustering(n_clusters=3), SpectralClustering(n_clusters=3), SpectralClustering(n_clusters=3)]\n",
      "Fit data is doneFit data is doneDone with spectral_models for ensemble_input of cspa\n",
      "spectral_clustering_models = [SpectralClustering(n_clusters=3), SpectralClustering(n_clusters=3), SpectralClustering(n_clusters=3), SpectralClustering(n_clusters=3), SpectralClustering(n_clusters=3), SpectralClustering(n_clusters=3), SpectralClustering(n_clusters=3), SpectralClustering(n_clusters=3), SpectralClustering(n_clusters=3), SpectralClustering(n_clusters=3)]\n",
      "\n",
      "\n",
      "Done with spectral_models for ensemble_input of cspa\n",
      "Fit data is doneFit data is done\n",
      "\n",
      "spectral_clustering_models = [SpectralClustering(n_clusters=3), SpectralClustering(n_clusters=3), SpectralClustering(n_clusters=3), SpectralClustering(n_clusters=3), SpectralClustering(n_clusters=3), SpectralClustering(n_clusters=3), SpectralClustering(n_clusters=3), SpectralClustering(n_clusters=3), SpectralClustering(n_clusters=3), SpectralClustering(n_clusters=3)]spectral_clustering_models = [SpectralClustering(n_clusters=3), SpectralClustering(n_clusters=3), SpectralClustering(n_clusters=3), SpectralClustering(n_clusters=3), SpectralClustering(n_clusters=3), SpectralClustering(n_clusters=3), SpectralClustering(n_clusters=3), SpectralClustering(n_clusters=3), SpectralClustering(n_clusters=3), SpectralClustering(n_clusters=3)]\n",
      "\n",
      "Fit data is doneDone with spectral_models for ensemble_input of cspaDone with spectral_models for ensemble_input of cspa\n",
      "\n",
      "\n",
      "Fit data is done\n",
      "spectral_clustering_models = [SpectralClustering(n_clusters=3), SpectralClustering(n_clusters=3), SpectralClustering(n_clusters=3), SpectralClustering(n_clusters=3), SpectralClustering(n_clusters=3), SpectralClustering(n_clusters=3), SpectralClustering(n_clusters=3), SpectralClustering(n_clusters=3), SpectralClustering(n_clusters=3), SpectralClustering(n_clusters=3)]\n",
      "spectral_clustering_models = [SpectralClustering(n_clusters=3), SpectralClustering(n_clusters=3), SpectralClustering(n_clusters=3), SpectralClustering(n_clusters=3), SpectralClustering(n_clusters=3), SpectralClustering(n_clusters=3), SpectralClustering(n_clusters=3), SpectralClustering(n_clusters=3), SpectralClustering(n_clusters=3), SpectralClustering(n_clusters=3)]Done with spectral_models for ensemble_input of cspaFit data is done\n",
      "\n",
      "\n",
      "Done with spectral_models for ensemble_input of cspa\n",
      "Fit data is donespectral_clustering_models = [SpectralClustering(n_clusters=3), SpectralClustering(n_clusters=3), SpectralClustering(n_clusters=3), SpectralClustering(n_clusters=3), SpectralClustering(n_clusters=3), SpectralClustering(n_clusters=3), SpectralClustering(n_clusters=3), SpectralClustering(n_clusters=3), SpectralClustering(n_clusters=3), SpectralClustering(n_clusters=3)]\n",
      "\n",
      "Done with spectral_models for ensemble_input of cspa\n",
      "spectral_clustering_models = [SpectralClustering(n_clusters=3), SpectralClustering(n_clusters=3), SpectralClustering(n_clusters=3), SpectralClustering(n_clusters=3), SpectralClustering(n_clusters=3), SpectralClustering(n_clusters=3), SpectralClustering(n_clusters=3), SpectralClustering(n_clusters=3), SpectralClustering(n_clusters=3), SpectralClustering(n_clusters=3)]\n",
      "Done with spectral_models for ensemble_input of cspa\n",
      "Fit data is doneFit data is done\n",
      "\n",
      "spectral_clustering_models = [SpectralClustering(n_clusters=3), SpectralClustering(n_clusters=3), SpectralClustering(n_clusters=3), SpectralClustering(n_clusters=3), SpectralClustering(n_clusters=3), SpectralClustering(n_clusters=3), SpectralClustering(n_clusters=3), SpectralClustering(n_clusters=3), SpectralClustering(n_clusters=3), SpectralClustering(n_clusters=3)]\n",
      "spectral_clustering_models = [SpectralClustering(n_clusters=3), SpectralClustering(n_clusters=3), SpectralClustering(n_clusters=3), SpectralClustering(n_clusters=3), SpectralClustering(n_clusters=3), SpectralClustering(n_clusters=3), SpectralClustering(n_clusters=3), SpectralClustering(n_clusters=3), SpectralClustering(n_clusters=3), SpectralClustering(n_clusters=3)]Done with spectral_models for ensemble_input of cspa\n",
      "Done with spectral_models for ensemble_input of cspa\n",
      "\n",
      "NMF is running\n",
      "Start with spectral_models for ensemble_input of nmf\n",
      "Start with spectral_models for ensemble_input of nmfStart with spectral_models for ensemble_input of nmf\n",
      "\n",
      "Start with spectral_models for ensemble_input of nmf\n",
      "Start with spectral_models for ensemble_input of nmf\n",
      "Start with spectral_models for ensemble_input of nmf\n",
      "Start with spectral_models for ensemble_input of nmf\n",
      "Start with spectral_models for ensemble_input of nmf\n",
      "Start with spectral_models for ensemble_input of nmf\n",
      "Start with spectral_models for ensemble_input of nmf\n"
     ]
    }
   ],
   "source": [
    "# Create ensemble clustering ['NMF', 'CSPA', 'MCLA', 'HBGF'] using KMeans as base clustering\n",
    "start = time.time()\n",
    "compareClustring.perform_ensemble_clustering('Spectral', k_list, itr_num, data, target)\n",
    "end = time.time()\n",
    "print(end - start)"
   ]
  },
  {
   "cell_type": "code",
   "execution_count": null,
   "id": "46452617",
   "metadata": {},
   "outputs": [],
   "source": [
    "# Create Spectral models for the iris dataset with 3 clusters and 100 iterations\n",
    "spectral_models = create_spectral_models_parallel(k_list, itr_num, data)\n",
    "spectral_labels = get_labels_from_models(spectral_models)\n",
    "\n",
    "compareClustring.add_validation_results(data, target, spectral_labels, 'Spectral')"
   ]
  },
  {
   "cell_type": "code",
   "execution_count": null,
   "id": "8090464b",
   "metadata": {},
   "outputs": [],
   "source": [
    "sp_df = compareClustring.df\n",
    "time_dic = compareClustring.time_dic"
   ]
  },
  {
   "cell_type": "code",
   "execution_count": null,
   "id": "83b06d8e",
   "metadata": {},
   "outputs": [],
   "source": [
    "# save the information in Excle file\n",
    "sp_df.to_csv('Seeds_Results/Spectral_3_itr_50_seeds.csv', index=False)"
   ]
  },
  {
   "cell_type": "code",
   "execution_count": null,
   "id": "e7c6ec80",
   "metadata": {},
   "outputs": [],
   "source": [
    "df = pd.DataFrame.from_dict(time_dic)\n",
    "df.to_csv('Seeds_Results/Time_Spectral_3_itr_50_seeds.csv', index= False)"
   ]
  },
  {
   "cell_type": "code",
   "execution_count": null,
   "id": "ec99c994",
   "metadata": {},
   "outputs": [],
   "source": [
    "compareClustring.display_results()"
   ]
  },
  {
   "cell_type": "code",
   "execution_count": null,
   "id": "c9240ee5",
   "metadata": {},
   "outputs": [],
   "source": [
    "compareClustring.display_time()"
   ]
  },
  {
   "cell_type": "code",
   "execution_count": null,
   "id": "4bcccfc1",
   "metadata": {},
   "outputs": [],
   "source": [
    "del compareClustring"
   ]
  }
 ],
 "metadata": {
  "kernelspec": {
   "display_name": "Python 3",
   "language": "python",
   "name": "python3"
  },
  "language_info": {
   "codemirror_mode": {
    "name": "ipython",
    "version": 3
   },
   "file_extension": ".py",
   "mimetype": "text/x-python",
   "name": "python",
   "nbconvert_exporter": "python",
   "pygments_lexer": "ipython3",
   "version": "3.9.2"
  }
 },
 "nbformat": 4,
 "nbformat_minor": 5
}
