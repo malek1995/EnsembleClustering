{
 "cells": [
  {
   "cell_type": "code",
   "execution_count": 1,
   "metadata": {
    "collapsed": true
   },
   "outputs": [],
   "source": [
    "from sklearn.datasets import load_iris\n",
    "from main_functions import *"
   ]
  },
  {
   "cell_type": "code",
   "execution_count": 2,
   "outputs": [],
   "source": [
    "k_list = [3]\n",
    "itr_num = 10"
   ],
   "metadata": {
    "collapsed": false
   }
  },
  {
   "cell_type": "code",
   "execution_count": 3,
   "outputs": [
    {
     "name": "stderr",
     "output_type": "stream",
     "text": [
      "/home/malek/.local/lib/python3.10/site-packages/sklearn/cluster/_kmeans.py:870: FutureWarning: The default value of `n_init` will change from 10 to 'auto' in 1.4. Set the value of `n_init` explicitly to suppress the warning\n",
      "  warnings.warn(\n",
      "/home/malek/.local/lib/python3.10/site-packages/sklearn/cluster/_kmeans.py:870: FutureWarning: The default value of `n_init` will change from 10 to 'auto' in 1.4. Set the value of `n_init` explicitly to suppress the warning\n",
      "  warnings.warn(\n",
      "/home/malek/.local/lib/python3.10/site-packages/sklearn/cluster/_kmeans.py:870: FutureWarning: The default value of `n_init` will change from 10 to 'auto' in 1.4. Set the value of `n_init` explicitly to suppress the warning\n",
      "  warnings.warn(\n",
      "/home/malek/.local/lib/python3.10/site-packages/sklearn/cluster/_kmeans.py:870: FutureWarning: The default value of `n_init` will change from 10 to 'auto' in 1.4. Set the value of `n_init` explicitly to suppress the warning\n",
      "  warnings.warn(\n",
      "/home/malek/.local/lib/python3.10/site-packages/sklearn/cluster/_kmeans.py:870: FutureWarning: The default value of `n_init` will change from 10 to 'auto' in 1.4. Set the value of `n_init` explicitly to suppress the warning\n",
      "  warnings.warn(\n",
      "/home/malek/.local/lib/python3.10/site-packages/sklearn/cluster/_kmeans.py:870: FutureWarning: The default value of `n_init` will change from 10 to 'auto' in 1.4. Set the value of `n_init` explicitly to suppress the warning\n",
      "  warnings.warn(\n",
      "/home/malek/.local/lib/python3.10/site-packages/sklearn/cluster/_kmeans.py:870: FutureWarning: The default value of `n_init` will change from 10 to 'auto' in 1.4. Set the value of `n_init` explicitly to suppress the warning\n",
      "  warnings.warn(\n",
      "/home/malek/.local/lib/python3.10/site-packages/sklearn/cluster/_kmeans.py:870: FutureWarning: The default value of `n_init` will change from 10 to 'auto' in 1.4. Set the value of `n_init` explicitly to suppress the warning\n",
      "  warnings.warn(\n",
      "/home/malek/.local/lib/python3.10/site-packages/sklearn/cluster/_kmeans.py:870: FutureWarning: The default value of `n_init` will change from 10 to 'auto' in 1.4. Set the value of `n_init` explicitly to suppress the warning\n",
      "  warnings.warn(\n",
      "/home/malek/.local/lib/python3.10/site-packages/sklearn/cluster/_kmeans.py:870: FutureWarning: The default value of `n_init` will change from 10 to 'auto' in 1.4. Set the value of `n_init` explicitly to suppress the warning\n",
      "  warnings.warn(\n"
     ]
    }
   ],
   "source": [
    "# Load the iris dataset\n",
    "iris=load_iris()\n",
    "data = iris.data\n",
    "target = iris.target\n",
    "# Create KMeans models for the iris dataset with 3 clusters and 10 iterations\n",
    "k_means_models = create_kmeans_models(k_list, itr_num, data)\n",
    "k_means_labels = get_labels_from_models(k_means_models)\n",
    "\n",
    "add_validation_results(data, target, k_means_labels, 'KMeans')"
   ],
   "metadata": {
    "collapsed": false
   }
  },
  {
   "cell_type": "code",
   "execution_count": 4,
   "outputs": [],
   "source": [
    "# Create ensemble clustering ['NMF', 'CSPA', 'MCLA', 'HBGF'] using KMeans as base clustering\n",
    "perform_ensemble_clustering(k_means_models, k_list, itr_num, data, target)"
   ],
   "metadata": {
    "collapsed": false
   }
  },
  {
   "cell_type": "code",
   "execution_count": 5,
   "outputs": [
    {
     "name": "stdout",
     "output_type": "stream",
     "text": [
      "+-----------------------------+---------+-----------+---------+---------+---------+\n",
      "|                             |  KMeans |    NMF    |   CSPA  |   MCLA  |   HBGF  |\n",
      "+-----------------------------+---------+-----------+---------+---------+---------+\n",
      "|            k_list           |    3    |     3     |    3    |    3    |    3    |\n",
      "|           itr_num           |    10   |     10    |    10   |    10   |    10   |\n",
      "|    Internal_Mean_DB_Score   |  0.562  |   0.906   |  0.819  |  0.562  |  0.641  |\n",
      "|   Internal_Mean_Sil_Score   |  0.599  |   0.537   |  0.473  |  0.599  |  0.539  |\n",
      "|    Internal_Mean_CH_Score   | 692.941 |  624.364  | 461.097 | 692.941 | 604.308 |\n",
      "|   External_Mean_NMI_Score   |  0.758  |   0.727   |   0.64  |  0.758  |  0.744  |\n",
      "|   External_Mean_ARI_Score   |   0.73  |   0.697   |  0.591  |   0.73  |  0.742  |\n",
      "|    External_Mean_J_Score    |   0.25  |   0.232   |  0.442  |  0.008  |  0.826  |\n",
      "|  Internal_Variance_DB_Score |   0.0   |   1.064   |   0.0   |   0.0   |   0.0   |\n",
      "| Internal_Variance_Sil_Score |   0.0   |   0.034   |   0.0   |   0.0   |   0.0   |\n",
      "|  Internal_Variance_CH_Score |   0.0   | 42325.368 |   0.0   |   0.0   |   0.0   |\n",
      "| External_Variance_NMI_Score |   0.0   |   0.008   |   0.0   |   0.0   |   0.0   |\n",
      "| External_Variance_ARI_Score |   0.0   |    0.01   |   0.0   |   0.0   |   0.0   |\n",
      "|  External_Variance_J_Score  |  0.046  |   0.052   |   0.0   |   0.0   |   0.0   |\n",
      "+-----------------------------+---------+-----------+---------+---------+---------+\n"
     ]
    }
   ],
   "source": [
    "display_results(k_list, itr_num)"
   ],
   "metadata": {
    "collapsed": false
   }
  },
  {
   "cell_type": "code",
   "execution_count": 6,
   "outputs": [],
   "source": [
    "clear_results()"
   ],
   "metadata": {
    "collapsed": false
   }
  },
  {
   "cell_type": "code",
   "execution_count": 7,
   "outputs": [],
   "source": [
    "# Create SpectralClustering models for the iris dataset with 3 clusters and 10 iterations\n",
    "spectral_models = create_spectral_clustering_models(k_list, itr_num, data)\n",
    "spectral_labels = get_labels_from_models(spectral_models)\n",
    "\n",
    "add_validation_results(data, target, spectral_labels, 'Spectral')"
   ],
   "metadata": {
    "collapsed": false
   }
  },
  {
   "cell_type": "code",
   "execution_count": 8,
   "outputs": [],
   "source": [
    "# Create ensemble clustering ['NMF', 'CSPA', 'MCLA', 'HBGF'] using spectral as base clustering\n",
    "perform_ensemble_clustering(spectral_models, k_list, itr_num, data, target)"
   ],
   "metadata": {
    "collapsed": false
   }
  },
  {
   "cell_type": "code",
   "execution_count": 9,
   "outputs": [
    {
     "name": "stdout",
     "output_type": "stream",
     "text": [
      "+-----------------------------+----------+---------+---------+---------+---------+\n",
      "|                             | Spectral |   NMF   |   CSPA  |   MCLA  |   HBGF  |\n",
      "+-----------------------------+----------+---------+---------+---------+---------+\n",
      "|            k_list           |    3     |    3    |    3    |    3    |    3    |\n",
      "|           itr_num           |    10    |    10   |    10   |    10   |    10   |\n",
      "|    Internal_Mean_DB_Score   |  0.565   |  0.567  |  0.755  |  0.567  |   0.81  |\n",
      "|   Internal_Mean_Sil_Score   |  0.596   |  0.595  |  0.492  |  0.595  |   0.49  |\n",
      "|    Internal_Mean_CH_Score   | 688.801  | 688.879 | 497.833 | 688.879 | 452.333 |\n",
      "|   External_Mean_NMI_Score   |   0.77   |  0.766  |  0.723  |  0.766  |  0.714  |\n",
      "|   External_Mean_ARI_Score   |  0.744   |  0.744  |  0.714  |  0.744  |  0.701  |\n",
      "|    External_Mean_J_Score    |  0.195   |  0.282  |  0.806  |  0.824  |  0.399  |\n",
      "|  Internal_Variance_DB_Score |   0.0    |   0.0   |   0.0   |   0.0   |   0.0   |\n",
      "| Internal_Variance_Sil_Score |   0.0    |   0.0   |   0.0   |   0.0   |   0.0   |\n",
      "|  Internal_Variance_CH_Score |  0.014   |   0.0   |   0.0   |   0.0   |   0.0   |\n",
      "| External_Variance_NMI_Score |   0.0    |   0.0   |   0.0   |   0.0   |   0.0   |\n",
      "| External_Variance_ARI_Score |   0.0    |   0.0   |   0.0   |   0.0   |   0.0   |\n",
      "|  External_Variance_J_Score  |  0.053   |  0.011  |   0.0   |   0.0   |   0.0   |\n",
      "+-----------------------------+----------+---------+---------+---------+---------+\n"
     ]
    }
   ],
   "source": [
    "display_results(k_list, itr_num)"
   ],
   "metadata": {
    "collapsed": false
   }
  },
  {
   "cell_type": "code",
   "execution_count": 10,
   "outputs": [],
   "source": [
    "clear_results()"
   ],
   "metadata": {
    "collapsed": false
   }
  }
 ],
 "metadata": {
  "kernelspec": {
   "display_name": "Python 3",
   "language": "python",
   "name": "python3"
  },
  "language_info": {
   "codemirror_mode": {
    "name": "ipython",
    "version": 2
   },
   "file_extension": ".py",
   "mimetype": "text/x-python",
   "name": "python",
   "nbconvert_exporter": "python",
   "pygments_lexer": "ipython2",
   "version": "2.7.6"
  }
 },
 "nbformat": 4,
 "nbformat_minor": 0
}
