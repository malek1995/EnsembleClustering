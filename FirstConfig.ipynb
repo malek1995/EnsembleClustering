{
 "cells": [
  {
   "cell_type": "code",
   "execution_count": null,
   "metadata": {
    "collapsed": true
   },
   "outputs": [],
   "source": [
    "from sklearn.datasets import load_iris\n",
    "from main_functions import *"
   ]
  },
  {
   "cell_type": "code",
   "execution_count": null,
   "outputs": [],
   "source": [
    "# Load the iris dataset\n",
    "iris=load_iris()\n",
    "data = iris.data\n",
    "target = iris.target\n",
    "# Create KMeans models for the iris dataset with 3 clusters and 10 iterations\n",
    "k_means_models = create_kmeans_models([3], 10, data)\n",
    "k_means_labels = get_labels_from_models(k_means_models)\n",
    "k_means_internal = calculate_internal_validation_for_all_labels(data, k_means_labels)\n",
    "k_means_internal_mean = calculate_mean_of_validation(k_means_internal)\n",
    "k_means_internal_variance = calculate_variance_of_validation(k_means_internal, k_means_internal_mean)\n",
    "print(k_means_internal_mean, k_means_internal_variance)"
   ],
   "metadata": {
    "collapsed": false
   }
  },
  {
   "cell_type": "code",
   "execution_count": null,
   "outputs": [],
   "source": [
    "# Create SpectralClustering models for the iris dataset with 3 clusters and 10 iterations\n",
    "spectral_clustering_models = create_spectral_clustering_models([3], 10, data)\n",
    "spectral_clustering_labels = get_labels_from_models(spectral_clustering_models)\n",
    "spectral_clustering_external = calculate_external_validation_for_all_labels(target, spectral_clustering_labels)\n",
    "spectral_clustering_external_mean = calculate_mean_of_validation(spectral_clustering_external)\n",
    "spectral_clustering_external_variance = calculate_variance_of_validation(spectral_clustering_external, spectral_clustering_external_mean)\n",
    "print(spectral_clustering_external_mean, spectral_clustering_external_variance)"
   ],
   "metadata": {
    "collapsed": false
   }
  },
  {
   "cell_type": "code",
   "execution_count": null,
   "outputs": [],
   "source": [
    "# Create nmf ensemble models for the iris dataset with 3 clusters and 10 iterations\n",
    "nmf_input = modify_models_to_valid_ensemble_input(k_means_models)\n",
    "nmf_labels = create_ensemble_clustering([3], 10, nmf_input, 'nmf')\n",
    "nmf_internal = calculate_internal_validation_for_all_labels(data, nmf_labels)\n",
    "nmf_internal_mean = calculate_mean_of_validation(nmf_internal)\n",
    "nmf_internal_variance = calculate_variance_of_validation(nmf_internal, nmf_internal_mean)\n",
    "print(nmf_internal_mean, nmf_internal_variance)"
   ],
   "metadata": {
    "collapsed": false
   }
  },
  {
   "cell_type": "code",
   "execution_count": null,
   "outputs": [],
   "source": [
    "# Create cspa ensemble models for the iris dataset with 3 clusters and 10 iterations\n",
    "cspa_input = modify_models_to_valid_ensemble_input(spectral_clustering_models)\n",
    "cspa_labels = create_ensemble_clustering([3], 10, cspa_input, 'cspa')\n",
    "cspa_external = calculate_external_validation_for_all_labels(target, cspa_labels)\n",
    "cspa_external_mean = calculate_mean_of_validation(cspa_external)\n",
    "cspa_external_variance = calculate_variance_of_validation(cspa_external, cspa_external_mean)\n",
    "print(cspa_external_mean, cspa_external_variance)"
   ],
   "metadata": {
    "collapsed": false
   }
  }
 ],
 "metadata": {
  "kernelspec": {
   "display_name": "Python 3",
   "language": "python",
   "name": "python3"
  },
  "language_info": {
   "codemirror_mode": {
    "name": "ipython",
    "version": 2
   },
   "file_extension": ".py",
   "mimetype": "text/x-python",
   "name": "python",
   "nbconvert_exporter": "python",
   "pygments_lexer": "ipython2",
   "version": "2.7.6"
  }
 },
 "nbformat": 4,
 "nbformat_minor": 0
}
