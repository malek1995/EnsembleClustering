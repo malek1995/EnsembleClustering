{
 "cells": [
  {
   "cell_type": "code",
   "execution_count": 15,
   "metadata": {
    "collapsed": true
   },
   "outputs": [],
   "source": [
    "from sklearn.datasets import load_iris\n",
    "from main_functions import *"
   ]
  },
  {
   "cell_type": "code",
   "execution_count": 16,
   "outputs": [],
   "source": [
    "k_list = [3]\n",
    "itr_num = 10"
   ],
   "metadata": {
    "collapsed": false
   }
  },
  {
   "cell_type": "code",
   "execution_count": 17,
   "outputs": [
    {
     "name": "stderr",
     "output_type": "stream",
     "text": [
      "/home/malek/.local/lib/python3.10/site-packages/sklearn/cluster/_kmeans.py:870: FutureWarning: The default value of `n_init` will change from 10 to 'auto' in 1.4. Set the value of `n_init` explicitly to suppress the warning\n",
      "  warnings.warn(\n",
      "/home/malek/.local/lib/python3.10/site-packages/sklearn/cluster/_kmeans.py:870: FutureWarning: The default value of `n_init` will change from 10 to 'auto' in 1.4. Set the value of `n_init` explicitly to suppress the warning\n",
      "  warnings.warn(\n",
      "/home/malek/.local/lib/python3.10/site-packages/sklearn/cluster/_kmeans.py:870: FutureWarning: The default value of `n_init` will change from 10 to 'auto' in 1.4. Set the value of `n_init` explicitly to suppress the warning\n",
      "  warnings.warn(\n",
      "/home/malek/.local/lib/python3.10/site-packages/sklearn/cluster/_kmeans.py:870: FutureWarning: The default value of `n_init` will change from 10 to 'auto' in 1.4. Set the value of `n_init` explicitly to suppress the warning\n",
      "  warnings.warn(\n",
      "/home/malek/.local/lib/python3.10/site-packages/sklearn/cluster/_kmeans.py:870: FutureWarning: The default value of `n_init` will change from 10 to 'auto' in 1.4. Set the value of `n_init` explicitly to suppress the warning\n",
      "  warnings.warn(\n",
      "/home/malek/.local/lib/python3.10/site-packages/sklearn/cluster/_kmeans.py:870: FutureWarning: The default value of `n_init` will change from 10 to 'auto' in 1.4. Set the value of `n_init` explicitly to suppress the warning\n",
      "  warnings.warn(\n",
      "/home/malek/.local/lib/python3.10/site-packages/sklearn/cluster/_kmeans.py:870: FutureWarning: The default value of `n_init` will change from 10 to 'auto' in 1.4. Set the value of `n_init` explicitly to suppress the warning\n",
      "  warnings.warn(\n",
      "/home/malek/.local/lib/python3.10/site-packages/sklearn/cluster/_kmeans.py:870: FutureWarning: The default value of `n_init` will change from 10 to 'auto' in 1.4. Set the value of `n_init` explicitly to suppress the warning\n",
      "  warnings.warn(\n",
      "/home/malek/.local/lib/python3.10/site-packages/sklearn/cluster/_kmeans.py:870: FutureWarning: The default value of `n_init` will change from 10 to 'auto' in 1.4. Set the value of `n_init` explicitly to suppress the warning\n",
      "  warnings.warn(\n",
      "/home/malek/.local/lib/python3.10/site-packages/sklearn/cluster/_kmeans.py:870: FutureWarning: The default value of `n_init` will change from 10 to 'auto' in 1.4. Set the value of `n_init` explicitly to suppress the warning\n",
      "  warnings.warn(\n"
     ]
    }
   ],
   "source": [
    "# Load the iris dataset\n",
    "iris=load_iris()\n",
    "data = iris.data\n",
    "target = iris.target\n",
    "# Create KMeans models for the iris dataset with 3 clusters and 10 iterations\n",
    "k_means_models = create_kmeans_models(k_list, itr_num, data)\n",
    "k_means_labels = get_labels_from_models(k_means_models)\n",
    "\n",
    "k_means_internal = calculate_internal_validation_for_all_labels(data, k_means_labels)\n",
    "k_means_internal_mean = calculate_mean_of_validation(k_means_internal)\n",
    "k_means_internal_variance = calculate_variance_of_validation(k_means_internal, k_means_internal_mean)\n",
    "\n",
    "k_means_external = calculate_external_validation_for_all_labels(target, k_means_labels)\n",
    "k_means_external_mean = calculate_mean_of_validation(k_means_external)\n",
    "k_means_external_variance = calculate_variance_of_validation(k_means_external, k_means_external_mean)\n",
    "\n",
    "add_results('KMeans', k_means_internal_mean, k_means_external_mean, k_means_internal_variance, k_means_external_variance)"
   ],
   "metadata": {
    "collapsed": false
   }
  },
  {
   "cell_type": "code",
   "execution_count": 18,
   "outputs": [],
   "source": [
    "# Create SpectralClustering models for the iris dataset with 3 clusters and 10 iterations\n",
    "spectral_models = create_spectral_clustering_models(k_list, itr_num, data)\n",
    "spectral_labels = get_labels_from_models(spectral_models)\n",
    "\n",
    "spectral_internal = calculate_internal_validation_for_all_labels(data, spectral_labels)\n",
    "spectral_internal_mean = calculate_mean_of_validation(spectral_internal)\n",
    "spectral_internal_variance = calculate_variance_of_validation(spectral_internal, spectral_internal_mean)\n",
    "\n",
    "spectral_external = calculate_external_validation_for_all_labels(target, spectral_labels)\n",
    "spectral_external_mean = calculate_mean_of_validation(spectral_external)\n",
    "spectral_external_variance = calculate_variance_of_validation(spectral_external, spectral_external_mean)\n",
    "\n",
    "add_results('Spectral', spectral_internal_mean, spectral_external_mean, spectral_internal_variance, spectral_external_variance)"
   ],
   "metadata": {
    "collapsed": false
   }
  },
  {
   "cell_type": "code",
   "execution_count": 19,
   "outputs": [],
   "source": [
    "# Create nmf ensemble models for the iris dataset with 3 clusters and 10 iterations\n",
    "nmf_input = modify_models_to_valid_ensemble_input(k_means_models)\n",
    "nmf_labels = create_ensemble_clustering(k_list, itr_num, nmf_input, 'nmf')\n",
    "\n",
    "nmf_internal = calculate_internal_validation_for_all_labels(data, nmf_labels)\n",
    "nmf_internal_mean = calculate_mean_of_validation(nmf_internal)\n",
    "nmf_internal_variance = calculate_variance_of_validation(nmf_internal, nmf_internal_mean)\n",
    "\n",
    "nmf_external = calculate_external_validation_for_all_labels(target, nmf_labels)\n",
    "nmf_external_mean = calculate_mean_of_validation(nmf_external)\n",
    "nmf_external_variance = calculate_variance_of_validation(nmf_external, nmf_external_mean)\n",
    "\n",
    "add_results('NMF', nmf_internal_mean, nmf_external_mean, nmf_internal_variance, nmf_external_variance)"
   ],
   "metadata": {
    "collapsed": false
   }
  },
  {
   "cell_type": "code",
   "execution_count": 20,
   "outputs": [
    {
     "name": "stdout",
     "output_type": "stream",
     "text": [
      "+-----------------------------+---------+----------+----------+---------+\n",
      "|                             |  KMeans | Spectral |   NMF    |   CSPA  |\n",
      "+-----------------------------+---------+----------+----------+---------+\n",
      "|            k_list           |    3    |    3     |    3     |    3    |\n",
      "|           itr_num           |    10   |    10    |    10    |    10   |\n",
      "|    Internal_Mean_DB_Score   |  0.562  |  0.564   |  1.173   |  0.768  |\n",
      "|   Internal_Mean_Sil_Score   |  0.599  |  0.596   |   0.5    |  0.487  |\n",
      "|    Internal_Mean_CH_Score   | 692.941 | 688.748  | 556.503  | 486.826 |\n",
      "|   External_Mean_NMI_Score   |  0.758  |  0.772   |  0.698   |   0.68  |\n",
      "|   External_Mean_ARI_Score   |   0.73  |  0.744   |  0.661   |  0.652  |\n",
      "|    External_Mean_J_Score    |  0.369  |  0.312   |  0.435   |  0.416  |\n",
      "|  Internal_Variance_DB_Score |   0.0   |   0.0    |  1.754   |   0.0   |\n",
      "| Internal_Variance_Sil_Score |   0.0   |   0.0    |  0.043   |   0.0   |\n",
      "|  Internal_Variance_CH_Score |   0.0   |  0.017   | 74463.85 |   0.0   |\n",
      "| External_Variance_NMI_Score |   0.0   |   0.0    |  0.014   |   0.0   |\n",
      "| External_Variance_ARI_Score |   0.0   |   0.0    |  0.019   |   0.0   |\n",
      "|  External_Variance_J_Score  |   0.09  |  0.072   |  0.071   |   0.0   |\n",
      "+-----------------------------+---------+----------+----------+---------+\n"
     ]
    }
   ],
   "source": [
    "# Create cspa ensemble models for the iris dataset with 3 clusters and 10 iterations\n",
    "cspa_input = modify_models_to_valid_ensemble_input(spectral_models)\n",
    "cspa_labels = create_ensemble_clustering(k_list, itr_num, cspa_input, 'cspa')\n",
    "\n",
    "cspa_internal = calculate_internal_validation_for_all_labels(data, cspa_labels)\n",
    "cspa_internal_mean = calculate_mean_of_validation(cspa_internal)\n",
    "cspa_internal_variance = calculate_variance_of_validation(cspa_internal, cspa_internal_mean)\n",
    "\n",
    "cspa_external = calculate_external_validation_for_all_labels(target, cspa_labels)\n",
    "cspa_external_mean = calculate_mean_of_validation(cspa_external)\n",
    "cspa_external_variance = calculate_variance_of_validation(cspa_external, cspa_external_mean)\n",
    "\n",
    "add_results('CSPA', cspa_internal_mean, cspa_external_mean, cspa_internal_variance, cspa_external_variance)\n",
    "\n",
    "# Display all results\n",
    "display_results(k_list, itr_num)"
   ],
   "metadata": {
    "collapsed": false
   }
  },
  {
   "cell_type": "code",
   "execution_count": 21,
   "outputs": [],
   "source": [
    "clear_results()"
   ],
   "metadata": {
    "collapsed": false
   }
  },
  {
   "cell_type": "code",
   "execution_count": 21,
   "outputs": [],
   "source": [],
   "metadata": {
    "collapsed": false
   }
  }
 ],
 "metadata": {
  "kernelspec": {
   "display_name": "Python 3",
   "language": "python",
   "name": "python3"
  },
  "language_info": {
   "codemirror_mode": {
    "name": "ipython",
    "version": 2
   },
   "file_extension": ".py",
   "mimetype": "text/x-python",
   "name": "python",
   "nbconvert_exporter": "python",
   "pygments_lexer": "ipython2",
   "version": "2.7.6"
  }
 },
 "nbformat": 4,
 "nbformat_minor": 0
}
