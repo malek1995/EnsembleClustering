{
 "cells": [
  {
   "cell_type": "code",
   "execution_count": 1,
   "id": "7c3d7fe9",
   "metadata": {},
   "outputs": [],
   "source": [
    "from sklearn.datasets import load_iris\n",
    "from parallel_functions import *\n",
    "import time"
   ]
  },
  {
   "cell_type": "code",
   "execution_count": 2,
   "id": "a8e44bfe",
   "metadata": {},
   "outputs": [],
   "source": [
    "k_list = [3]\n",
    "itr_num = 3"
   ]
  },
  {
   "cell_type": "code",
   "execution_count": 3,
   "id": "46b7f0aa",
   "metadata": {},
   "outputs": [
    {
     "data": {
      "text/plain": [
       "<parallel_functions.CompareClustering at 0x7fcb647770a0>"
      ]
     },
     "execution_count": 3,
     "metadata": {},
     "output_type": "execute_result"
    }
   ],
   "source": [
    "# Load the iris dataset\n",
    "iris=load_iris()\n",
    "data = iris.data\n",
    "target = iris.target\n",
    "compareClustring = CompareClustering()\n",
    "compareClustring"
   ]
  },
  {
   "cell_type": "code",
   "execution_count": 4,
   "id": "819c8a4a",
   "metadata": {
    "scrolled": true
   },
   "outputs": [
    {
     "name": "stdout",
     "output_type": "stream",
     "text": [
      "NMF is running\n",
      "CSPA is running\n",
      "MCLA is running\n",
      "HBGF is running\n",
      "7.682551145553589\n"
     ]
    }
   ],
   "source": [
    "# Create ensemble clustering ['NMF', 'CSPA', 'MCLA', 'HBGF'] using KMeans as base clustering\n",
    "start = time.time()\n",
    "compareClustring.perform_ensemble_clustering('KMeans', k_list, itr_num, data, target)\n",
    "end = time.time()\n",
    "print(end - start)"
   ]
  },
  {
   "cell_type": "code",
   "execution_count": 5,
   "id": "bb450f05",
   "metadata": {},
   "outputs": [],
   "source": [
    "# Create KMeans models for the iris dataset with 3 clusters and 10 iterations\n",
    "k_means_models = create_kmeans_models_parallel(k_list, itr_num, data)\n",
    "k_means_labels = get_labels_from_models(k_means_models)\n",
    "\n",
    "compareClustring.add_validation_results(data, target, k_means_labels, 'KMeans')"
   ]
  },
  {
   "cell_type": "code",
   "execution_count": 6,
   "id": "3af28438",
   "metadata": {},
   "outputs": [],
   "source": [
    "single_km_df = compareClustring.df\n",
    "time_dic = compareClustring.time_dic"
   ]
  },
  {
   "cell_type": "code",
   "execution_count": 7,
   "id": "516cb763",
   "metadata": {},
   "outputs": [],
   "source": [
    "# save the information in Excle file\n",
    "single_km_df.to_csv('Iris_Results/kmeans_3_itr_50_iris.csv', index=False)"
   ]
  },
  {
   "cell_type": "code",
   "execution_count": 8,
   "id": "8db83b30",
   "metadata": {},
   "outputs": [],
   "source": [
    "# Save the taken time in Excle file\n",
    "\n",
    "df = pd.DataFrame.from_dict(time_dic)\n",
    "df.to_csv('Iris_Results/Time_kmeans_3_itr_50_iris.csv', index= False)"
   ]
  },
  {
   "cell_type": "code",
   "execution_count": 9,
   "id": "65cbb5fc",
   "metadata": {},
   "outputs": [
    {
     "data": {
      "text/html": [
       "<style  type=\"text/css\" >\n",
       "</style><table id=\"T_6420c802_b6c9_11ed_b34b_509a4c5f2309\" ><thead>    <tr>        <th class=\"index_name level0\" >Validation technique:</th>        <th class=\"col_heading level0 col0\" colspan=4>DB_Score</th>        <th class=\"col_heading level0 col4\" colspan=4>SH_Score</th>        <th class=\"col_heading level0 col8\" colspan=4>CH_Score</th>        <th class=\"col_heading level0 col12\" colspan=4>NMF_Score</th>        <th class=\"col_heading level0 col16\" colspan=4>AR_Score</th>        <th class=\"col_heading level0 col20\" colspan=4>J_Score</th>    </tr>    <tr>        <th class=\"index_name level1\" ></th>        <th class=\"col_heading level1 col0\" >Min</th>        <th class=\"col_heading level1 col1\" >Max</th>        <th class=\"col_heading level1 col2\" >Mean</th>        <th class=\"col_heading level1 col3\" >Var</th>        <th class=\"col_heading level1 col4\" >Min</th>        <th class=\"col_heading level1 col5\" >Max</th>        <th class=\"col_heading level1 col6\" >Mean</th>        <th class=\"col_heading level1 col7\" >Var</th>        <th class=\"col_heading level1 col8\" >Min</th>        <th class=\"col_heading level1 col9\" >Max</th>        <th class=\"col_heading level1 col10\" >Mean</th>        <th class=\"col_heading level1 col11\" >Var</th>        <th class=\"col_heading level1 col12\" >Min</th>        <th class=\"col_heading level1 col13\" >Max</th>        <th class=\"col_heading level1 col14\" >Mean</th>        <th class=\"col_heading level1 col15\" >Var</th>        <th class=\"col_heading level1 col16\" >Min</th>        <th class=\"col_heading level1 col17\" >Max</th>        <th class=\"col_heading level1 col18\" >Mean</th>        <th class=\"col_heading level1 col19\" >Var</th>        <th class=\"col_heading level1 col20\" >Min</th>        <th class=\"col_heading level1 col21\" >Max</th>        <th class=\"col_heading level1 col22\" >Mean</th>        <th class=\"col_heading level1 col23\" >Var</th>    </tr>    <tr>        <th class=\"index_name level0\" >Algorithm name</th>        <th class=\"blank\" ></th>        <th class=\"blank\" ></th>        <th class=\"blank\" ></th>        <th class=\"blank\" ></th>        <th class=\"blank\" ></th>        <th class=\"blank\" ></th>        <th class=\"blank\" ></th>        <th class=\"blank\" ></th>        <th class=\"blank\" ></th>        <th class=\"blank\" ></th>        <th class=\"blank\" ></th>        <th class=\"blank\" ></th>        <th class=\"blank\" ></th>        <th class=\"blank\" ></th>        <th class=\"blank\" ></th>        <th class=\"blank\" ></th>        <th class=\"blank\" ></th>        <th class=\"blank\" ></th>        <th class=\"blank\" ></th>        <th class=\"blank\" ></th>        <th class=\"blank\" ></th>        <th class=\"blank\" ></th>        <th class=\"blank\" ></th>        <th class=\"blank\" ></th>    </tr></thead><tbody>\n",
       "                <tr>\n",
       "                        <th id=\"T_6420c802_b6c9_11ed_b34b_509a4c5f2309level0_row0\" class=\"row_heading level0 row0\" >nmf</th>\n",
       "                        <td id=\"T_6420c802_b6c9_11ed_b34b_509a4c5f2309row0_col0\" class=\"data row0 col0\" >0.561670</td>\n",
       "                        <td id=\"T_6420c802_b6c9_11ed_b34b_509a4c5f2309row0_col1\" class=\"data row0 col1\" >0.561670</td>\n",
       "                        <td id=\"T_6420c802_b6c9_11ed_b34b_509a4c5f2309row0_col2\" class=\"data row0 col2\" >0.561670</td>\n",
       "                        <td id=\"T_6420c802_b6c9_11ed_b34b_509a4c5f2309row0_col3\" class=\"data row0 col3\" >0.000000</td>\n",
       "                        <td id=\"T_6420c802_b6c9_11ed_b34b_509a4c5f2309row0_col4\" class=\"data row0 col4\" >0.598790</td>\n",
       "                        <td id=\"T_6420c802_b6c9_11ed_b34b_509a4c5f2309row0_col5\" class=\"data row0 col5\" >0.598790</td>\n",
       "                        <td id=\"T_6420c802_b6c9_11ed_b34b_509a4c5f2309row0_col6\" class=\"data row0 col6\" >0.598790</td>\n",
       "                        <td id=\"T_6420c802_b6c9_11ed_b34b_509a4c5f2309row0_col7\" class=\"data row0 col7\" >0.000000</td>\n",
       "                        <td id=\"T_6420c802_b6c9_11ed_b34b_509a4c5f2309row0_col8\" class=\"data row0 col8\" >692.941350</td>\n",
       "                        <td id=\"T_6420c802_b6c9_11ed_b34b_509a4c5f2309row0_col9\" class=\"data row0 col9\" >692.941350</td>\n",
       "                        <td id=\"T_6420c802_b6c9_11ed_b34b_509a4c5f2309row0_col10\" class=\"data row0 col10\" >692.941350</td>\n",
       "                        <td id=\"T_6420c802_b6c9_11ed_b34b_509a4c5f2309row0_col11\" class=\"data row0 col11\" >0.000000</td>\n",
       "                        <td id=\"T_6420c802_b6c9_11ed_b34b_509a4c5f2309row0_col12\" class=\"data row0 col12\" >0.758210</td>\n",
       "                        <td id=\"T_6420c802_b6c9_11ed_b34b_509a4c5f2309row0_col13\" class=\"data row0 col13\" >0.758210</td>\n",
       "                        <td id=\"T_6420c802_b6c9_11ed_b34b_509a4c5f2309row0_col14\" class=\"data row0 col14\" >0.758210</td>\n",
       "                        <td id=\"T_6420c802_b6c9_11ed_b34b_509a4c5f2309row0_col15\" class=\"data row0 col15\" >0.000000</td>\n",
       "                        <td id=\"T_6420c802_b6c9_11ed_b34b_509a4c5f2309row0_col16\" class=\"data row0 col16\" >0.730240</td>\n",
       "                        <td id=\"T_6420c802_b6c9_11ed_b34b_509a4c5f2309row0_col17\" class=\"data row0 col17\" >0.730240</td>\n",
       "                        <td id=\"T_6420c802_b6c9_11ed_b34b_509a4c5f2309row0_col18\" class=\"data row0 col18\" >0.730240</td>\n",
       "                        <td id=\"T_6420c802_b6c9_11ed_b34b_509a4c5f2309row0_col19\" class=\"data row0 col19\" >0.000000</td>\n",
       "                        <td id=\"T_6420c802_b6c9_11ed_b34b_509a4c5f2309row0_col20\" class=\"data row0 col20\" >0.230770</td>\n",
       "                        <td id=\"T_6420c802_b6c9_11ed_b34b_509a4c5f2309row0_col21\" class=\"data row0 col21\" >0.388700</td>\n",
       "                        <td id=\"T_6420c802_b6c9_11ed_b34b_509a4c5f2309row0_col22\" class=\"data row0 col22\" >0.289820</td>\n",
       "                        <td id=\"T_6420c802_b6c9_11ed_b34b_509a4c5f2309row0_col23\" class=\"data row0 col23\" >0.004950</td>\n",
       "            </tr>\n",
       "            <tr>\n",
       "                        <th id=\"T_6420c802_b6c9_11ed_b34b_509a4c5f2309level0_row1\" class=\"row_heading level0 row1\" >cspa</th>\n",
       "                        <td id=\"T_6420c802_b6c9_11ed_b34b_509a4c5f2309row1_col0\" class=\"data row1 col0\" >0.779470</td>\n",
       "                        <td id=\"T_6420c802_b6c9_11ed_b34b_509a4c5f2309row1_col1\" class=\"data row1 col1\" >0.779470</td>\n",
       "                        <td id=\"T_6420c802_b6c9_11ed_b34b_509a4c5f2309row1_col2\" class=\"data row1 col2\" >0.779470</td>\n",
       "                        <td id=\"T_6420c802_b6c9_11ed_b34b_509a4c5f2309row1_col3\" class=\"data row1 col3\" >0.000000</td>\n",
       "                        <td id=\"T_6420c802_b6c9_11ed_b34b_509a4c5f2309row1_col4\" class=\"data row1 col4\" >0.483690</td>\n",
       "                        <td id=\"T_6420c802_b6c9_11ed_b34b_509a4c5f2309row1_col5\" class=\"data row1 col5\" >0.483690</td>\n",
       "                        <td id=\"T_6420c802_b6c9_11ed_b34b_509a4c5f2309row1_col6\" class=\"data row1 col6\" >0.483690</td>\n",
       "                        <td id=\"T_6420c802_b6c9_11ed_b34b_509a4c5f2309row1_col7\" class=\"data row1 col7\" >0.000000</td>\n",
       "                        <td id=\"T_6420c802_b6c9_11ed_b34b_509a4c5f2309row1_col8\" class=\"data row1 col8\" >487.636050</td>\n",
       "                        <td id=\"T_6420c802_b6c9_11ed_b34b_509a4c5f2309row1_col9\" class=\"data row1 col9\" >487.636050</td>\n",
       "                        <td id=\"T_6420c802_b6c9_11ed_b34b_509a4c5f2309row1_col10\" class=\"data row1 col10\" >487.636050</td>\n",
       "                        <td id=\"T_6420c802_b6c9_11ed_b34b_509a4c5f2309row1_col11\" class=\"data row1 col11\" >0.000000</td>\n",
       "                        <td id=\"T_6420c802_b6c9_11ed_b34b_509a4c5f2309row1_col12\" class=\"data row1 col12\" >0.646140</td>\n",
       "                        <td id=\"T_6420c802_b6c9_11ed_b34b_509a4c5f2309row1_col13\" class=\"data row1 col13\" >0.646140</td>\n",
       "                        <td id=\"T_6420c802_b6c9_11ed_b34b_509a4c5f2309row1_col14\" class=\"data row1 col14\" >0.646140</td>\n",
       "                        <td id=\"T_6420c802_b6c9_11ed_b34b_509a4c5f2309row1_col15\" class=\"data row1 col15\" >0.000000</td>\n",
       "                        <td id=\"T_6420c802_b6c9_11ed_b34b_509a4c5f2309row1_col16\" class=\"data row1 col16\" >0.600460</td>\n",
       "                        <td id=\"T_6420c802_b6c9_11ed_b34b_509a4c5f2309row1_col17\" class=\"data row1 col17\" >0.600460</td>\n",
       "                        <td id=\"T_6420c802_b6c9_11ed_b34b_509a4c5f2309row1_col18\" class=\"data row1 col18\" >0.600460</td>\n",
       "                        <td id=\"T_6420c802_b6c9_11ed_b34b_509a4c5f2309row1_col19\" class=\"data row1 col19\" >0.000000</td>\n",
       "                        <td id=\"T_6420c802_b6c9_11ed_b34b_509a4c5f2309row1_col20\" class=\"data row1 col20\" >0.716520</td>\n",
       "                        <td id=\"T_6420c802_b6c9_11ed_b34b_509a4c5f2309row1_col21\" class=\"data row1 col21\" >0.716520</td>\n",
       "                        <td id=\"T_6420c802_b6c9_11ed_b34b_509a4c5f2309row1_col22\" class=\"data row1 col22\" >0.716520</td>\n",
       "                        <td id=\"T_6420c802_b6c9_11ed_b34b_509a4c5f2309row1_col23\" class=\"data row1 col23\" >0.000000</td>\n",
       "            </tr>\n",
       "            <tr>\n",
       "                        <th id=\"T_6420c802_b6c9_11ed_b34b_509a4c5f2309level0_row2\" class=\"row_heading level0 row2\" >mcla</th>\n",
       "                        <td id=\"T_6420c802_b6c9_11ed_b34b_509a4c5f2309row2_col0\" class=\"data row2 col0\" >0.561670</td>\n",
       "                        <td id=\"T_6420c802_b6c9_11ed_b34b_509a4c5f2309row2_col1\" class=\"data row2 col1\" >0.561670</td>\n",
       "                        <td id=\"T_6420c802_b6c9_11ed_b34b_509a4c5f2309row2_col2\" class=\"data row2 col2\" >0.561670</td>\n",
       "                        <td id=\"T_6420c802_b6c9_11ed_b34b_509a4c5f2309row2_col3\" class=\"data row2 col3\" >0.000000</td>\n",
       "                        <td id=\"T_6420c802_b6c9_11ed_b34b_509a4c5f2309row2_col4\" class=\"data row2 col4\" >0.598790</td>\n",
       "                        <td id=\"T_6420c802_b6c9_11ed_b34b_509a4c5f2309row2_col5\" class=\"data row2 col5\" >0.598790</td>\n",
       "                        <td id=\"T_6420c802_b6c9_11ed_b34b_509a4c5f2309row2_col6\" class=\"data row2 col6\" >0.598790</td>\n",
       "                        <td id=\"T_6420c802_b6c9_11ed_b34b_509a4c5f2309row2_col7\" class=\"data row2 col7\" >0.000000</td>\n",
       "                        <td id=\"T_6420c802_b6c9_11ed_b34b_509a4c5f2309row2_col8\" class=\"data row2 col8\" >692.941350</td>\n",
       "                        <td id=\"T_6420c802_b6c9_11ed_b34b_509a4c5f2309row2_col9\" class=\"data row2 col9\" >692.941350</td>\n",
       "                        <td id=\"T_6420c802_b6c9_11ed_b34b_509a4c5f2309row2_col10\" class=\"data row2 col10\" >692.941350</td>\n",
       "                        <td id=\"T_6420c802_b6c9_11ed_b34b_509a4c5f2309row2_col11\" class=\"data row2 col11\" >0.000000</td>\n",
       "                        <td id=\"T_6420c802_b6c9_11ed_b34b_509a4c5f2309row2_col12\" class=\"data row2 col12\" >0.758210</td>\n",
       "                        <td id=\"T_6420c802_b6c9_11ed_b34b_509a4c5f2309row2_col13\" class=\"data row2 col13\" >0.758210</td>\n",
       "                        <td id=\"T_6420c802_b6c9_11ed_b34b_509a4c5f2309row2_col14\" class=\"data row2 col14\" >0.758210</td>\n",
       "                        <td id=\"T_6420c802_b6c9_11ed_b34b_509a4c5f2309row2_col15\" class=\"data row2 col15\" >0.000000</td>\n",
       "                        <td id=\"T_6420c802_b6c9_11ed_b34b_509a4c5f2309row2_col16\" class=\"data row2 col16\" >0.730240</td>\n",
       "                        <td id=\"T_6420c802_b6c9_11ed_b34b_509a4c5f2309row2_col17\" class=\"data row2 col17\" >0.730240</td>\n",
       "                        <td id=\"T_6420c802_b6c9_11ed_b34b_509a4c5f2309row2_col18\" class=\"data row2 col18\" >0.730240</td>\n",
       "                        <td id=\"T_6420c802_b6c9_11ed_b34b_509a4c5f2309row2_col19\" class=\"data row2 col19\" >0.000000</td>\n",
       "                        <td id=\"T_6420c802_b6c9_11ed_b34b_509a4c5f2309row2_col20\" class=\"data row2 col20\" >0.388700</td>\n",
       "                        <td id=\"T_6420c802_b6c9_11ed_b34b_509a4c5f2309row2_col21\" class=\"data row2 col21\" >0.388700</td>\n",
       "                        <td id=\"T_6420c802_b6c9_11ed_b34b_509a4c5f2309row2_col22\" class=\"data row2 col22\" >0.388700</td>\n",
       "                        <td id=\"T_6420c802_b6c9_11ed_b34b_509a4c5f2309row2_col23\" class=\"data row2 col23\" >0.000000</td>\n",
       "            </tr>\n",
       "            <tr>\n",
       "                        <th id=\"T_6420c802_b6c9_11ed_b34b_509a4c5f2309level0_row3\" class=\"row_heading level0 row3\" >hbgf</th>\n",
       "                        <td id=\"T_6420c802_b6c9_11ed_b34b_509a4c5f2309row3_col0\" class=\"data row3 col0\" >0.836780</td>\n",
       "                        <td id=\"T_6420c802_b6c9_11ed_b34b_509a4c5f2309row3_col1\" class=\"data row3 col1\" >0.836780</td>\n",
       "                        <td id=\"T_6420c802_b6c9_11ed_b34b_509a4c5f2309row3_col2\" class=\"data row3 col2\" >0.836780</td>\n",
       "                        <td id=\"T_6420c802_b6c9_11ed_b34b_509a4c5f2309row3_col3\" class=\"data row3 col3\" >0.000000</td>\n",
       "                        <td id=\"T_6420c802_b6c9_11ed_b34b_509a4c5f2309row3_col4\" class=\"data row3 col4\" >0.478020</td>\n",
       "                        <td id=\"T_6420c802_b6c9_11ed_b34b_509a4c5f2309row3_col5\" class=\"data row3 col5\" >0.478020</td>\n",
       "                        <td id=\"T_6420c802_b6c9_11ed_b34b_509a4c5f2309row3_col6\" class=\"data row3 col6\" >0.478020</td>\n",
       "                        <td id=\"T_6420c802_b6c9_11ed_b34b_509a4c5f2309row3_col7\" class=\"data row3 col7\" >0.000000</td>\n",
       "                        <td id=\"T_6420c802_b6c9_11ed_b34b_509a4c5f2309row3_col8\" class=\"data row3 col8\" >440.350860</td>\n",
       "                        <td id=\"T_6420c802_b6c9_11ed_b34b_509a4c5f2309row3_col9\" class=\"data row3 col9\" >440.350860</td>\n",
       "                        <td id=\"T_6420c802_b6c9_11ed_b34b_509a4c5f2309row3_col10\" class=\"data row3 col10\" >440.350860</td>\n",
       "                        <td id=\"T_6420c802_b6c9_11ed_b34b_509a4c5f2309row3_col11\" class=\"data row3 col11\" >0.000000</td>\n",
       "                        <td id=\"T_6420c802_b6c9_11ed_b34b_509a4c5f2309row3_col12\" class=\"data row3 col12\" >0.680260</td>\n",
       "                        <td id=\"T_6420c802_b6c9_11ed_b34b_509a4c5f2309row3_col13\" class=\"data row3 col13\" >0.680260</td>\n",
       "                        <td id=\"T_6420c802_b6c9_11ed_b34b_509a4c5f2309row3_col14\" class=\"data row3 col14\" >0.680260</td>\n",
       "                        <td id=\"T_6420c802_b6c9_11ed_b34b_509a4c5f2309row3_col15\" class=\"data row3 col15\" >0.000000</td>\n",
       "                        <td id=\"T_6420c802_b6c9_11ed_b34b_509a4c5f2309row3_col16\" class=\"data row3 col16\" >0.652130</td>\n",
       "                        <td id=\"T_6420c802_b6c9_11ed_b34b_509a4c5f2309row3_col17\" class=\"data row3 col17\" >0.652130</td>\n",
       "                        <td id=\"T_6420c802_b6c9_11ed_b34b_509a4c5f2309row3_col18\" class=\"data row3 col18\" >0.652130</td>\n",
       "                        <td id=\"T_6420c802_b6c9_11ed_b34b_509a4c5f2309row3_col19\" class=\"data row3 col19\" >0.000000</td>\n",
       "                        <td id=\"T_6420c802_b6c9_11ed_b34b_509a4c5f2309row3_col20\" class=\"data row3 col20\" >0.415730</td>\n",
       "                        <td id=\"T_6420c802_b6c9_11ed_b34b_509a4c5f2309row3_col21\" class=\"data row3 col21\" >0.415730</td>\n",
       "                        <td id=\"T_6420c802_b6c9_11ed_b34b_509a4c5f2309row3_col22\" class=\"data row3 col22\" >0.415730</td>\n",
       "                        <td id=\"T_6420c802_b6c9_11ed_b34b_509a4c5f2309row3_col23\" class=\"data row3 col23\" >0.000000</td>\n",
       "            </tr>\n",
       "            <tr>\n",
       "                        <th id=\"T_6420c802_b6c9_11ed_b34b_509a4c5f2309level0_row4\" class=\"row_heading level0 row4\" >KMeans</th>\n",
       "                        <td id=\"T_6420c802_b6c9_11ed_b34b_509a4c5f2309row4_col0\" class=\"data row4 col0\" >0.561670</td>\n",
       "                        <td id=\"T_6420c802_b6c9_11ed_b34b_509a4c5f2309row4_col1\" class=\"data row4 col1\" >0.564820</td>\n",
       "                        <td id=\"T_6420c802_b6c9_11ed_b34b_509a4c5f2309row4_col2\" class=\"data row4 col2\" >0.562720</td>\n",
       "                        <td id=\"T_6420c802_b6c9_11ed_b34b_509a4c5f2309row4_col3\" class=\"data row4 col3\" >0.000000</td>\n",
       "                        <td id=\"T_6420c802_b6c9_11ed_b34b_509a4c5f2309row4_col4\" class=\"data row4 col4\" >0.597680</td>\n",
       "                        <td id=\"T_6420c802_b6c9_11ed_b34b_509a4c5f2309row4_col5\" class=\"data row4 col5\" >0.598790</td>\n",
       "                        <td id=\"T_6420c802_b6c9_11ed_b34b_509a4c5f2309row4_col6\" class=\"data row4 col6\" >0.598420</td>\n",
       "                        <td id=\"T_6420c802_b6c9_11ed_b34b_509a4c5f2309row4_col7\" class=\"data row4 col7\" >0.000000</td>\n",
       "                        <td id=\"T_6420c802_b6c9_11ed_b34b_509a4c5f2309row4_col8\" class=\"data row4 col8\" >692.941350</td>\n",
       "                        <td id=\"T_6420c802_b6c9_11ed_b34b_509a4c5f2309row4_col9\" class=\"data row4 col9\" >693.708430</td>\n",
       "                        <td id=\"T_6420c802_b6c9_11ed_b34b_509a4c5f2309row4_col10\" class=\"data row4 col10\" >693.197040</td>\n",
       "                        <td id=\"T_6420c802_b6c9_11ed_b34b_509a4c5f2309row4_col11\" class=\"data row4 col11\" >0.130760</td>\n",
       "                        <td id=\"T_6420c802_b6c9_11ed_b34b_509a4c5f2309row4_col12\" class=\"data row4 col12\" >0.741930</td>\n",
       "                        <td id=\"T_6420c802_b6c9_11ed_b34b_509a4c5f2309row4_col13\" class=\"data row4 col13\" >0.758210</td>\n",
       "                        <td id=\"T_6420c802_b6c9_11ed_b34b_509a4c5f2309row4_col14\" class=\"data row4 col14\" >0.752780</td>\n",
       "                        <td id=\"T_6420c802_b6c9_11ed_b34b_509a4c5f2309row4_col15\" class=\"data row4 col15\" >0.000060</td>\n",
       "                        <td id=\"T_6420c802_b6c9_11ed_b34b_509a4c5f2309row4_col16\" class=\"data row4 col16\" >0.716340</td>\n",
       "                        <td id=\"T_6420c802_b6c9_11ed_b34b_509a4c5f2309row4_col17\" class=\"data row4 col17\" >0.730240</td>\n",
       "                        <td id=\"T_6420c802_b6c9_11ed_b34b_509a4c5f2309row4_col18\" class=\"data row4 col18\" >0.725610</td>\n",
       "                        <td id=\"T_6420c802_b6c9_11ed_b34b_509a4c5f2309row4_col19\" class=\"data row4 col19\" >0.000040</td>\n",
       "                        <td id=\"T_6420c802_b6c9_11ed_b34b_509a4c5f2309row4_col20\" class=\"data row4 col20\" >0.011630</td>\n",
       "                        <td id=\"T_6420c802_b6c9_11ed_b34b_509a4c5f2309row4_col21\" class=\"data row4 col21\" >0.814100</td>\n",
       "                        <td id=\"T_6420c802_b6c9_11ed_b34b_509a4c5f2309row4_col22\" class=\"data row4 col22\" >0.291120</td>\n",
       "                        <td id=\"T_6420c802_b6c9_11ed_b34b_509a4c5f2309row4_col23\" class=\"data row4 col23\" >0.136970</td>\n",
       "            </tr>\n",
       "    </tbody></table>"
      ],
      "text/plain": [
       "<pandas.io.formats.style.Styler at 0x7fcb64777370>"
      ]
     },
     "execution_count": 9,
     "metadata": {},
     "output_type": "execute_result"
    }
   ],
   "source": [
    "compareClustring.display_results()"
   ]
  },
  {
   "cell_type": "code",
   "execution_count": 10,
   "id": "abf10e21",
   "metadata": {},
   "outputs": [
    {
     "name": "stdout",
     "output_type": "stream",
     "text": [
      "      mean_time\n",
      "nmf    1.160355\n",
      "cspa   1.159255\n",
      "mcla   1.304314\n",
      "hbgf   1.104207\n"
     ]
    }
   ],
   "source": [
    "compareClustring.display_time()"
   ]
  },
  {
   "cell_type": "code",
   "execution_count": 11,
   "id": "3f9efaf7",
   "metadata": {},
   "outputs": [],
   "source": [
    "del compareClustring"
   ]
  }
 ],
 "metadata": {
  "kernelspec": {
   "display_name": "Python 3",
   "language": "python",
   "name": "python3"
  },
  "language_info": {
   "codemirror_mode": {
    "name": "ipython",
    "version": 3
   },
   "file_extension": ".py",
   "mimetype": "text/x-python",
   "name": "python",
   "nbconvert_exporter": "python",
   "pygments_lexer": "ipython3",
   "version": "3.9.2"
  }
 },
 "nbformat": 4,
 "nbformat_minor": 5
}
