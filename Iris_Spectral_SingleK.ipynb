{
 "cells": [
  {
   "cell_type": "code",
   "execution_count": 1,
   "id": "01deeafe",
   "metadata": {},
   "outputs": [],
   "source": [
    "from sklearn.datasets import load_iris\n",
    "from par_functions import *\n",
    "import time"
   ]
  },
  {
   "cell_type": "code",
   "execution_count": 2,
   "id": "901a95d1",
   "metadata": {},
   "outputs": [],
   "source": [
    "k_list = [3]\n",
    "itr_num = 3"
   ]
  },
  {
   "cell_type": "code",
   "execution_count": 3,
   "id": "aadd5df8",
   "metadata": {},
   "outputs": [
    {
     "data": {
      "text/plain": [
       "<par_functions.CompareClustering at 0x7fd648a042e0>"
      ]
     },
     "execution_count": 3,
     "metadata": {},
     "output_type": "execute_result"
    }
   ],
   "source": [
    "# Load the iris dataset\n",
    "iris=load_iris()\n",
    "data = iris.data\n",
    "target = iris.target\n",
    "compareClustring = CompareClustering()\n",
    "compareClustring"
   ]
  },
  {
   "cell_type": "code",
   "execution_count": null,
   "id": "f388f6ce",
   "metadata": {},
   "outputs": [
    {
     "name": "stdout",
     "output_type": "stream",
     "text": [
      "CSPA is running\n",
      "Start with spectral_models for ensemble_input of cspa\n",
      "Start with spectral_models for ensemble_input of cspa\n",
      "Start with spectral_models for ensemble_input of cspa\n",
      "Fit data is doneFit data is done\n",
      "\n",
      "Fit data is done\n",
      "Fit data is doneFit data is done\n",
      "\n",
      "Fit data is done\n",
      "Fit data is done\n",
      "Fit data is done\n",
      "spectral_clustering_models = [SpectralClustering(n_clusters=3), SpectralClustering(n_clusters=3), SpectralClustering(n_clusters=3)]\n",
      "spectral_clustering_models = [SpectralClustering(n_clusters=3), SpectralClustering(n_clusters=3), SpectralClustering(n_clusters=3)]Done with spectral_models for ensemble_input of cspa\n",
      "\n",
      "Done with spectral_models for ensemble_input of cspa\n",
      "Fit data is done\n",
      "spectral_clustering_models = [SpectralClustering(n_clusters=3), SpectralClustering(n_clusters=3), SpectralClustering(n_clusters=3)]\n",
      "Done with spectral_models for ensemble_input of cspa\n",
      "NMF is running\n",
      "Start with spectral_models for ensemble_input of nmfStart with spectral_models for ensemble_input of nmf\n",
      "\n",
      "Start with spectral_models for ensemble_input of nmf\n"
     ]
    }
   ],
   "source": [
    "# Create ensemble clustering ['NMF', 'CSPA', 'MCLA', 'HBGF'] using Spectral as base clustering\n",
    "start = time.time()\n",
    "compareClustring.perform_ensemble_clustering('Spectral', k_list, itr_num, data, target)\n",
    "end = time.time()\n",
    "print(end - start)"
   ]
  },
  {
   "cell_type": "code",
   "execution_count": null,
   "id": "247e3891",
   "metadata": {},
   "outputs": [],
   "source": [
    "# Create Spectral models for the iris dataset with 3 clusters and 100 iterations\n",
    "spectral_models = create_spectral_models_parallel(k_list, itr_num, data)\n",
    "spectral_labels = get_labels_from_models(spectral_models)\n",
    "\n",
    "compareClustring.add_validation_results(data, target, spectral_labels, 'Spectral')"
   ]
  },
  {
   "cell_type": "code",
   "execution_count": null,
   "id": "9b1a878d",
   "metadata": {},
   "outputs": [],
   "source": [
    "sp_df = compareClustring.df\n",
    "time_dic = compareClustring.time_dic"
   ]
  },
  {
   "cell_type": "code",
   "execution_count": null,
   "id": "b61dfc34",
   "metadata": {},
   "outputs": [],
   "source": [
    "# save the information in Excle file\n",
    "sp_df.to_csv('Iris_Results/Spectral_3_itr_50_iris.csv', index=False)"
   ]
  },
  {
   "cell_type": "code",
   "execution_count": null,
   "id": "aa84b20f",
   "metadata": {},
   "outputs": [],
   "source": [
    "# Save the taken time in Excle file\n",
    "df = pd.DataFrame.from_dict(time_dic)\n",
    "df.to_csv('Iris_Results/Time_Spectral_3_itr_50_iris.csv', index= False)"
   ]
  },
  {
   "cell_type": "code",
   "execution_count": null,
   "id": "f97322df",
   "metadata": {},
   "outputs": [],
   "source": [
    "compareClustring.display_results()"
   ]
  },
  {
   "cell_type": "code",
   "execution_count": null,
   "id": "8c9e600c",
   "metadata": {},
   "outputs": [],
   "source": [
    "compareClustring.display_time()"
   ]
  },
  {
   "cell_type": "code",
   "execution_count": null,
   "id": "81807916",
   "metadata": {},
   "outputs": [],
   "source": [
    "del compareClustring"
   ]
  }
 ],
 "metadata": {
  "kernelspec": {
   "display_name": "Python 3",
   "language": "python",
   "name": "python3"
  },
  "language_info": {
   "codemirror_mode": {
    "name": "ipython",
    "version": 3
   },
   "file_extension": ".py",
   "mimetype": "text/x-python",
   "name": "python",
   "nbconvert_exporter": "python",
   "pygments_lexer": "ipython3",
   "version": "3.9.2"
  }
 },
 "nbformat": 4,
 "nbformat_minor": 5
}
